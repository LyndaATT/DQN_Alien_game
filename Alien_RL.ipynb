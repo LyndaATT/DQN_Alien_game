{
 "cells": [
  {
   "cell_type": "markdown",
   "metadata": {
    "id": "7Pr7SXkIYlZh"
   },
   "source": [
    "## 1. Importing libraries"
   ]
  },
  {
   "cell_type": "code",
   "execution_count": null,
   "metadata": {
    "id": "m4JluIJL1pRV"
   },
   "outputs": [],
   "source": [
    "!pip install gym[atari,accept-rom-license]==0.21.0\n",
    "!apt update && apt install xvfb\n",
    "!pip install gym-notebook-wrapper\n",
    "!apt update && apt install python-opengl ffmpeg"
   ]
  },
  {
   "cell_type": "code",
   "execution_count": null,
   "metadata": {
    "colab": {
     "base_uri": "https://localhost:8080/"
    },
    "id": "GVTefHMn1rXg",
    "outputId": "2ba50f6b-7da6-477a-9bf2-24e2901cdd06"
   },
   "outputs": [
    {
     "name": "stdout",
     "output_type": "stream",
     "text": [
      "Mounted at /content/drive\n"
     ]
    }
   ],
   "source": [
    "from tqdm.notebook import tqdm\n",
    "\n",
    "import numpy as np\n",
    "from numpy import loadtxt\n",
    "import matplotlib.pyplot as plt\n",
    "\n",
    "import os\n",
    "import sys\n",
    "import random\n",
    "import pickle\n",
    "\n",
    "import pandas as pd \n",
    "import gym\n",
    "import gnwrapper\n",
    "\n",
    "import tensorflow as tf\n",
    "from tensorflow.keras import Sequential\n",
    "from tensorflow.keras.layers import Dense\n",
    "from tensorflow.keras.optimizers import Adam\n",
    "from tensorflow.keras.models import load_model\n",
    "from keras import backend as K\n",
    "\n",
    "from google.colab import drive\n",
    "drive.mount('/content/drive')\n"
   ]
  },
  {
   "cell_type": "code",
   "execution_count": null,
   "metadata": {
    "id": "u7CwOzYX62fy"
   },
   "outputs": [],
   "source": [
    "#test: writing rewards in txt file:\n",
    "path = '/content/drive/My Drive/AI/Project/'"
   ]
  },
  {
   "cell_type": "markdown",
   "metadata": {
    "id": "azDDmQXYZHLq"
   },
   "source": [
    "## 2. Setting run type to GPU\n",
    "\n",
    "To speed up and have an optimal computation time when training the model described in the next section, we use the gpu. "
   ]
  },
  {
   "cell_type": "code",
   "execution_count": null,
   "metadata": {
    "colab": {
     "base_uri": "https://localhost:8080/"
    },
    "id": "XhMyEG-5nzQu",
    "outputId": "00e1680a-e58f-4d88-c5f2-119d8a2f1725"
   },
   "outputs": [
    {
     "data": {
      "text/plain": [
       "<tensorflow.python.client.session.Session at 0x7fce009a8d50>"
      ]
     },
     "execution_count": 6,
     "metadata": {},
     "output_type": "execute_result"
    }
   ],
   "source": [
    "config =tf.compat.v1.ConfigProto( device_count = {'GPU': 1 , 'CPU': 56} ) \n",
    "tf.compat.v1.Session(config=config)\n",
    "K.set_session\n",
    "tf.compat.v1.keras.backend.get_session()"
   ]
  },
  {
   "cell_type": "markdown",
   "metadata": {
    "id": "g2YTV-DUeuke"
   },
   "source": [
    "### Game - Environment: Alien \n",
    "\n",
    "---\n",
    "\n",
    "\n",
    "We chose to work on the environment described by the Atari game [Alien](https://gym.openai.com/envs/Alien-ram-v0/). It is an arcade game where the player should reach the top of the environment in order to collect a kind of star. But during his path he is chased by aliens. In order to survive, he has to run away from them or face them by shooting fire. On his way there are also alien eggs that he has to destroy. \n",
    "\n",
    "This game is available in 2 versions: IMAGE version and RAM one. In our case, we worked with the ram version, where the observations were given by the state of the RAM (an array of 128 bytes).\n",
    "\n",
    "\n",
    "This game is quite complex with a number of actions of 18: 'noop','fire', 'up', 'right', 'left', 'down', 'right', 'up left', 'down right', 'down left', 'fire up','light right', 'light left', 'light down', 'light right', 'top-left light',' bottom-right light',' bottom-left light'."
   ]
  },
  {
   "cell_type": "markdown",
   "metadata": {
    "id": "DmLd5fyyGcQ8"
   },
   "source": [
    "### Algorithm\n",
    "---\n",
    "At the very beginning, we chose to work with a neural network as a value function approximation and generate the observations by playing the game. However, it turned out that we had difficulties running it on our machines. Looking for solutions to our problem, we found that we could generate data using a neural network. So we ended up making a Deep Q-Network and using experience replay technique. It turns out that by this method we can generate any number of data to train the model. This is not the case when we play by ourselves, we are quite limited by the amount of time we can spend playing. \n",
    "\n",
    "To do this, we referred to the following 3 websites:\n",
    "* [Deep Q Network(DQN)- Applying Neural Network as a functional approximation in Q-learning](https://medium.com/intro-to-artificial-intelligence/deep-q-network-dqn-applying-neural-network-as-a-functional-approximation-in-q-learning-6ffe3b0a9062) \n",
    "\n",
    "* [Training A Deep Q-Network - Reinforcement Learning](https://deeplizard.com/learn/video/0bt0SjbS3xc)\n",
    "\n",
    "* [Replay Memory Explained - Experience For Deep Q-Network Training](https://deeplizard.com/learn/video/Bcuj2fTH4_4#:~:text=A%20key%20reason%20for%20using,therefore%20lead%20to%20inefficient%20learning.)\n",
    "\n",
    "\n",
    "\n",
    "-- **Deep Q-Network**\n",
    "\n",
    " As in the lab, we decided to approximate the value function by a neural network. Indeed, for a given state/observation, the neural network predicts/returns the estimated q-values for each action that can be performed from this state. As mentioned before, this network approaches the q-value function which follows the Bellman equation that we can find in the code. However, we used this concept with a technique called *replay experience*.\n",
    "\n",
    "-- **Replay experience**\n",
    "\n",
    "By using this strategy, the agent learns from its previous experiences. For each episode, at each time step of the training, the experience/observation is saved in order to generate data that can be found in the replay memory. From this dataset, a sample of observations is taken to train the neural network.\n"
   ]
  },
  {
   "cell_type": "markdown",
   "metadata": {
    "id": "_qW5vyd7ZUq6"
   },
   "source": [
    "## 3. Building the Agent "
   ]
  },
  {
   "cell_type": "markdown",
   "metadata": {
    "id": "kE2fgRe_Tka2"
   },
   "source": [
    "\n",
    "**Neural Network Architecture**\n",
    "\n",
    "\n",
    "The neural network used has two fully connected layers with respectively 128 and 32 neurons. (The choice of the number of neurons was retrieved after some tests). \n",
    "\n",
    "\n",
    "\n",
    "![model.png](data:image/png;base64,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)\n",
    "\n",
    "\n",
    "We can see that the output of our neural network is of dimension 18, which corresponds to the number of actions we have. "
   ]
  },
  {
   "cell_type": "code",
   "execution_count": null,
   "metadata": {
    "id": "t3UW5ZTi2pni"
   },
   "outputs": [],
   "source": [
    "class Agent():\n",
    "  def __init__(self, env):\n",
    "    \"\"\"\n",
    "    Initializes the Agent class\n",
    "    @params:\n",
    "            env : game environment\n",
    "    @return: \n",
    "            setting the environment\n",
    "    \"\"\"\n",
    "    self.env = env #setting the environment\n",
    "\n",
    "  def model(self,lr):\n",
    "    \"\"\"\n",
    "      Defines the model (ANN), q-value function approximator\n",
    "      @params:\n",
    "              lr: learning rate\n",
    "      @return: \n",
    "              compiled neural network\n",
    "    \"\"\"\n",
    "    states_size = env.observation_space.shape\n",
    "    num_actions = env.action_space.n\n",
    "    model = Sequential()\n",
    "    model.add(Dense(128,input_shape=states_size, activation='relu'))\n",
    "    model.add(Dense(32, activation='relu'))\n",
    "    model.add(Dense(num_actions, activation='linear'))\n",
    "    model.compile(loss='mse', optimizer=Adam(learning_rate=lr), metrics='accuracy')\n",
    "    #model.summary()\n",
    "    return model\n",
    "\n",
    "  def training_model(self, replay_memory, gamma, min_obs, batch_size):\n",
    "    \"\"\"\n",
    "    Trains the q-values function approximator (neural network) for one episode\n",
    "    @params:\n",
    "            replay memory (list): observations recorded in memory\n",
    "            gamma (float): discount factor\n",
    "            min_obs (int): minimum number of observation required to train the model\n",
    "            batch_size (int):  number of training examples needed \n",
    "    @return: \n",
    "            history of the neural network\n",
    "    \"\"\"\n",
    "    #we need to train the model only if we have a certain amount of observation in the memory, so we should define a threshold for that\n",
    "    #i.e: min_obs will be the threshold, if the replay memory contains less observation than this threshold value, we cannot train the model\n",
    "    if len(replay_memory) < min_obs: #cannot train \n",
    "      return \n",
    "\n",
    "    #we have a certain amount of observation in our replay memory\n",
    "    #we train our model on a random batch from it of size batch size\n",
    "    batch = random.sample(replay_memory,batch_size)\n",
    "    m = 1\n",
    "    #getting states table before the action \n",
    "    states_beforeAction = np.array([(observation/255) for (observation, action, reward, new_observation, done) in batch])\n",
    "    #predicting action value table using the model q(s,a), will be model input \n",
    "    q_beforeAction = self.model_.predict(states_beforeAction)\n",
    "\n",
    "    #getting states table after the action \n",
    "    states_afterAction = np.array([(observation/255) for (observation, action, reward, new_observation, done) in batch])\n",
    "    #predicting action value table of the new obs using the model q'(s',a')\n",
    "    q_afterAction= self.target_model.predict(states_afterAction)\n",
    "\n",
    "    #updating the value action table\n",
    "    for i, (observation, action, reward, new_observation, done) in enumerate(batch):\n",
    "      if not done: #if we are not in a terminal state\n",
    "        tmp = reward + gamma*np.max(q_afterAction[action]) #bellman equation \n",
    "      else:\n",
    "        tmp = reward \n",
    "\n",
    "      q_beforeAction[i][action] = tmp #updating q-value table\n",
    "\n",
    "    #training the  neural network \n",
    "    history = self.model_.fit(states_beforeAction, q_beforeAction,validation_split = 0.15, verbose=0, shuffle=True)\n",
    "    return history\n",
    "\n",
    "  def train(self,nb_episodes,eps,gamma,batch_size,min_obs,lr):\n",
    "    \"\"\"\n",
    "    Trains the q-values function approximator for all  episodes\n",
    "    @params:\n",
    "            nb_episodes (int): number of episodes to play\n",
    "            eps (float): probability of choosing to explore in epsilon greedy algorithm\n",
    "            gamma (float): discount factor\n",
    "            min_obs (int): minimum number of observation required to train the model\n",
    "            batch_size (int):  number of training examples needed \n",
    "            lr (float): learing rate\n",
    "    @return: \n",
    "            reward: list of rewards (contains rewards of all episodes)\n",
    "            model_: approximator\n",
    "            history: history of the approximator\n",
    "    \"\"\"\n",
    "    #getting approximator network\n",
    "    self.model_ = self.model(lr)\n",
    "    #getting target network \n",
    "    self.target_model = self.model(lr)\n",
    "    self.target_model.set_weights(self.model_.get_weights())\n",
    "\n",
    "    #total rewards, will contain all the rewards of all episodes\n",
    "    rewards = []\n",
    "\n",
    "    #init memory\n",
    "    replay_mem = []\n",
    "\n",
    "    #time steps\n",
    "    steps = 0\n",
    "\n",
    "    #videos of episodes\n",
    "    videos = []\n",
    "\n",
    "    #threshold for copying weights to the target network \n",
    "    T = 1000 \n",
    "    #for each episode\n",
    "    for episode in tqdm(range(nb_episodes)):\n",
    "      #number of lives at the begining of the episode\n",
    "      nb_lives = 3\n",
    "      #starting state\n",
    "      obs = self.env.reset()\n",
    "      done = False #not terminate state\n",
    "      #reward of the current episode\n",
    "      reward_ep = 0\n",
    "      #step for episode\n",
    "      step_ep = 0\n",
    "\n",
    "      while not done: #while not terminate state\n",
    "        #Getting action using epsilon greedy\n",
    "        if  np.random.randn(0, 1) <= eps: #exploration\n",
    "          #choose random action from the action space we have\n",
    "          action = self.env.action_space.sample()\n",
    "        else: #exploitation\n",
    "          #prediction of the action value \n",
    "          q_values = self.model_.predict((obs/255).reshape(1,-1))\n",
    "          action = np.argmax(q_values) #pick the max\n",
    "        \n",
    "        #here we have done one time step obs_t -> obs_t+1 (with action at)\n",
    "        new_obs,reward,done,info = env.step(action)\n",
    "        #adding this to the replay memory \n",
    "        replay_mem.append([obs,action,reward,new_obs,done])\n",
    "\n",
    "        #before updating, we need to check if we are still alive\n",
    "        #so we can update life status\n",
    "        current_nb_lives = env.ale.lives()\n",
    "        if current_nb_lives - nb_lives != 0: #3-3=0\n",
    "          lost = False\n",
    "        else:\n",
    "          lose = True\n",
    "\n",
    "        nb_lives = current_nb_lives #updating number of lives to go\n",
    "\n",
    "        #updating \n",
    "        obs = new_obs\n",
    "        step_ep +=1 \n",
    "        steps +=1\n",
    "        reward_ep +=reward\n",
    "        # Train main model every number of steps\n",
    "        if done:\n",
    "          history = self.training_model(replay_mem,gamma, min_obs, batch_size)\n",
    "      \n",
    "      # Update target model's weights every number of steps\n",
    "      if steps >= T:\n",
    "        self.target_model.set_weights(self.model_.get_weights())\n",
    "        steps_to_update_weights = 0\n",
    "      \n",
    "      rewards.append(reward_ep)\n",
    "      #self.env.display()\n",
    "\n",
    "    # Close the environment \n",
    "    self.env.close()\n",
    "    return rewards,self.model_, history"
   ]
  },
  {
   "cell_type": "markdown",
   "metadata": {
    "id": "jys3vMZlZZZh"
   },
   "source": [
    "## 4. Setting hyperparameters"
   ]
  },
  {
   "cell_type": "markdown",
   "metadata": {
    "id": "49tqVjmsfQ9q"
   },
   "source": [
    "The choice of hyperparameters (except $\\gamma$ and the number of episodes) was made after a number of tests where we compared the accuracy obtained each time. \n",
    "\n",
    "For the number of episodes, we were constrained and limited by **100**. When we tried to test a higher number, the notebook crashed and the kernel disconnected.\n",
    "We think that the accuracy would be better than the one we have with a higher number of episodes because in this case we will have more data. \n"
   ]
  },
  {
   "cell_type": "code",
   "execution_count": null,
   "metadata": {
    "id": "rhJCPLcnijWy"
   },
   "outputs": [],
   "source": [
    "nb_episodes= 100 #number of episodes \n",
    "eps = 0.1 #epsilon (for epsilon greedy algorithm)\n",
    "gamma = 0.85 #discount factor\n",
    "lr = 0.001 #learning rate\n",
    "batch_size= 256 #number of batches \n",
    "min_obs = 50 #minimum number of observation for training "
   ]
  },
  {
   "cell_type": "markdown",
   "metadata": {
    "id": "x8CQZL06Zhua"
   },
   "source": [
    "## 5. Training the agent"
   ]
  },
  {
   "cell_type": "markdown",
   "metadata": {
    "id": "-b90SI4YLtgP"
   },
   "source": [
    "In the following cells, we train the neural network with the selected hyperparameters.\n",
    "\n",
    "We decided that each time a model is trained ($\\gamma$ varying), we save it. And every saved model can be found in \"Project/models/mymodel\"\n",
    "\n",
    "This choice was made for 3 reasons: to save time when reworking the notebook, we couldn't train different models at once (the notebook would crash because of the memory) and so that you can test it more easily. \n",
    "For the same reasons, we have saved the rewards obtained during training. "
   ]
  },
  {
   "cell_type": "code",
   "execution_count": null,
   "metadata": {
    "id": "GavOcg3XhyBS"
   },
   "outputs": [],
   "source": [
    "#loading game environment\n",
    "env = gnwrapper.Monitor(gym.make('Alien-ram-v0'))"
   ]
  },
  {
   "cell_type": "code",
   "execution_count": null,
   "metadata": {
    "id": "zF6Po9Ckivc2"
   },
   "outputs": [],
   "source": [
    "#creating agent\n",
    "agent = Agent(env)"
   ]
  },
  {
   "cell_type": "code",
   "execution_count": null,
   "metadata": {
    "id": "cBzgAMGji0tR"
   },
   "outputs": [],
   "source": [
    "#training agent and saving the model \n",
    "\n",
    "#rewards,model,history = agent.train(nb_episodes,eps,gamma,batch_size,min_obs,lr)\n",
    "#agent.model_.save(\"/content/drive/My Drive/AI/Project/models/model_085\")\n",
    "#np.savetxt(path+'rewards_0.85.txt', rewards, delimiter=\"\\n\", fmt=\"%s\")"
   ]
  },
  {
   "cell_type": "code",
   "execution_count": null,
   "metadata": {
    "id": "7tfhtLBlzAJw"
   },
   "outputs": [],
   "source": [
    "def plot_reward(rewards,c,s):\n",
    "  \"\"\"\n",
    "    plots obtained rewards respect to episodes\n",
    "    @params:\n",
    "            rewards (list/array): list of rewards\n",
    "            c (string): color\n",
    "            s (string): label\n",
    "    @return:\n",
    "            plot\n",
    "  \"\"\"\n",
    "  plt.rcParams[\"figure.figsize\"] = (8,5)\n",
    "  plt.plot(range(len(rewards)),rewards,c,label=s)\n",
    "  plt.xlabel('Episode')\n",
    "  plt.ylabel('Reward')\n",
    "  plt.legend()\n",
    "  plt.title('Rewards/episodes')"
   ]
  },
  {
   "cell_type": "markdown",
   "metadata": {
    "id": "BNMw6oDimdsR"
   },
   "source": [
    "## 6. Comparing results for different value of $\\gamma$\n",
    "\n",
    "We tested a number of different values for $\\gamma$. To compare them, we used the results obtained during the training and the test. The results are the amount of rewards obtained during the episodes"
   ]
  },
  {
   "cell_type": "markdown",
   "metadata": {
    "id": "pxtGYOVc64w8"
   },
   "source": [
    "### 6.1. Analysis of training results"
   ]
  },
  {
   "cell_type": "markdown",
   "metadata": {
    "id": "mkZXA3dTfzdQ"
   },
   "source": [
    "As mentioned above, we have saved the rewards obtained during the training. They will now be used to compare our models as follows"
   ]
  },
  {
   "cell_type": "code",
   "execution_count": null,
   "metadata": {
    "id": "n5SYWMicHdw6"
   },
   "outputs": [],
   "source": [
    "#loading results from the txt files saved during the training stage\n",
    "rewards_training_05 = loadtxt(path+'rewards_0.5.txt', comments=\"#\", delimiter=\",\", unpack=False) #rewards for model with gamma = 0.5\n",
    "rewards_training_06 = loadtxt(path+'rewards_0.6.txt', comments=\"#\", delimiter=\",\", unpack=False) #rewards for model with gamma = 0.6\n",
    "rewards_training_07 = loadtxt(path+'rewards_0.7.txt', comments=\"#\", delimiter=\",\", unpack=False) #rewards for model with gamma = 0.7\n",
    "rewards_training_075 = loadtxt(path+'rewards_0.75.txt', comments=\"#\", delimiter=\",\", unpack=False) #rewards for model with gamma = 0.75\n",
    "rewards_training_08 = loadtxt(path+'rewards_0.8.txt', comments=\"#\", delimiter=\",\", unpack=False) #rewards for model with gamma = 0.8\n",
    "rewards_training_085 = loadtxt(path+'rewards_0.85.txt', comments=\"#\", delimiter=\",\", unpack=False) #rewards for model with gamma = 0.85\n",
    "rewards_training_09 = loadtxt(path+'rewards_0.9.txt', comments=\"#\", delimiter=\",\", unpack=False) #rewards for model with gamma = 0.9\n",
    "rewards_training_99 = loadtxt(path+'rewards_0.99.txt', comments=\"#\", delimiter=\",\", unpack=False) #rewards for model with gamma = 0.99"
   ]
  },
  {
   "cell_type": "code",
   "execution_count": null,
   "metadata": {
    "colab": {
     "base_uri": "https://localhost:8080/",
     "height": 350
    },
    "id": "MbWcg7uX78GE",
    "outputId": "6f995720-58cd-4c21-e5d3-e71c18795109"
   },
   "outputs": [
    {
     "data": {
      "image/png": "[encoded data removed]",
      "text/plain": [
       "<Figure size 576x360 with 1 Axes>"
      ]
     },
     "metadata": {
      "needs_background": "light"
     },
     "output_type": "display_data"
    }
   ],
   "source": [
    "#plotting the results\n",
    "rewards_training = [rewards_training_05,rewards_training_06,rewards_training_07,rewards_training_075,rewards_training_08,rewards_training_085,rewards_training_09,rewards_training_99]\n",
    "colors = ['m','b','k','c','y','r','g','orange']\n",
    "gammas = ['0.5','0.6','0.7','0.75','0.8','0.85','0.9','0.99']\n",
    "i = 0\n",
    "for rewards in rewards_training:\n",
    "  plot_reward(rewards,colors[i],gammas[i])\n",
    "  i+=1"
   ]
  },
  {
   "cell_type": "markdown",
   "metadata": {
    "id": "noOFa-7fgTp8"
   },
   "source": [
    "We plot each model rewards alone, to clear analysis/view"
   ]
  },
  {
   "cell_type": "code",
   "execution_count": null,
   "metadata": {
    "colab": {
     "base_uri": "https://localhost:8080/",
     "height": 350
    },
    "id": "2h21uQyT7-XZ",
    "outputId": "79bcb159-f998-40cb-f096-e8fb57985ca6"
   },
   "outputs": [
    {
     "data": {
      "image/png": "[encoded data removed]",
      "text/plain": [
       "<Figure size 576x360 with 1 Axes>"
      ]
     },
     "metadata": {
      "needs_background": "light"
     },
     "output_type": "display_data"
    }
   ],
   "source": [
    "plot_reward(rewards_training[0],colors[0],gammas[0])"
   ]
  },
  {
   "cell_type": "code",
   "execution_count": null,
   "metadata": {
    "colab": {
     "base_uri": "https://localhost:8080/",
     "height": 350
    },
    "id": "3aba5wYo-PpB",
    "outputId": "be5f97c9-ccf7-49ed-8218-9de6277a2e1d"
   },
   "outputs": [
    {
     "data": {
      "image/png": "[encoded data removed]",
      "text/plain": [
       "<Figure size 576x360 with 1 Axes>"
      ]
     },
     "metadata": {
      "needs_background": "light"
     },
     "output_type": "display_data"
    }
   ],
   "source": [
    "plot_reward(rewards_training[1],colors[1],gammas[1])"
   ]
  },
  {
   "cell_type": "code",
   "execution_count": null,
   "metadata": {
    "colab": {
     "base_uri": "https://localhost:8080/",
     "height": 350
    },
    "id": "rcWIlitO-28r",
    "outputId": "de592990-9650-4c79-c5a8-059d5e860b59"
   },
   "outputs": [
    {
     "data": {
      "image/png": "[encoded data removed]",
      "text/plain": [
       "<Figure size 576x360 with 1 Axes>"
      ]
     },
     "metadata": {
      "needs_background": "light"
     },
     "output_type": "display_data"
    }
   ],
   "source": [
    "plot_reward(rewards_training[2],colors[2],gammas[2])"
   ]
  },
  {
   "cell_type": "code",
   "execution_count": null,
   "metadata": {
    "colab": {
     "base_uri": "https://localhost:8080/",
     "height": 350
    },
    "id": "O6FytNsa-5IE",
    "outputId": "aaddfd8b-52db-4029-b47b-fa962af6e146"
   },
   "outputs": [
    {
     "data": {
      "image/png": "[encoded data removed]",
      "text/plain": [
       "<Figure size 576x360 with 1 Axes>"
      ]
     },
     "metadata": {
      "needs_background": "light"
     },
     "output_type": "display_data"
    }
   ],
   "source": [
    "plot_reward(rewards_training[3],colors[3],gammas[3])"
   ]
  },
  {
   "cell_type": "code",
   "execution_count": null,
   "metadata": {
    "colab": {
     "base_uri": "https://localhost:8080/",
     "height": 350
    },
    "id": "nAnB2Ffk-7Vr",
    "outputId": "629740fe-12e6-4f22-cded-5626ef17fa34"
   },
   "outputs": [
    {
     "data": {
      "image/png": "[encoded data removed]",
      "text/plain": [
       "<Figure size 576x360 with 1 Axes>"
      ]
     },
     "metadata": {
      "needs_background": "light"
     },
     "output_type": "display_data"
    }
   ],
   "source": [
    "plot_reward(rewards_training[4],colors[4],gammas[4])"
   ]
  },
  {
   "cell_type": "code",
   "execution_count": null,
   "metadata": {
    "colab": {
     "base_uri": "https://localhost:8080/",
     "height": 350
    },
    "id": "7LzjW6e-Z8ZG",
    "outputId": "12ba434c-fffe-473b-fa39-919e82d72425"
   },
   "outputs": [
    {
     "data": {
      "image/png": "[encoded data removed]",
      "text/plain": [
       "<Figure size 576x360 with 1 Axes>"
      ]
     },
     "metadata": {
      "needs_background": "light"
     },
     "output_type": "display_data"
    }
   ],
   "source": [
    "plot_reward(rewards_training[5],colors[5],gammas[5])"
   ]
  },
  {
   "cell_type": "code",
   "execution_count": null,
   "metadata": {
    "colab": {
     "base_uri": "https://localhost:8080/",
     "height": 350
    },
    "id": "TAdHKQDB75m0",
    "outputId": "654bcbaf-ef46-4df6-e9b1-e6b9d914686a"
   },
   "outputs": [
    {
     "data": {
      "image/png": "[encoded data removed]",
      "text/plain": [
       "<Figure size 576x360 with 1 Axes>"
      ]
     },
     "metadata": {
      "needs_background": "light"
     },
     "output_type": "display_data"
    }
   ],
   "source": [
    "plot_reward(rewards_training[6],colors[6],gammas[6])"
   ]
  },
  {
   "cell_type": "code",
   "execution_count": null,
   "metadata": {
    "colab": {
     "base_uri": "https://localhost:8080/",
     "height": 350
    },
    "id": "lHnGi2iP8AAE",
    "outputId": "208710b5-c055-4037-f3a2-14253dbac9d7"
   },
   "outputs": [
    {
     "data": {
      "image/png": "[encoded data removed]",
      "text/plain": [
       "<Figure size 576x360 with 1 Axes>"
      ]
     },
     "metadata": {
      "needs_background": "light"
     },
     "output_type": "display_data"
    }
   ],
   "source": [
    "plot_reward(rewards_training[7],colors[7],gammas[7])"
   ]
  },
  {
   "cell_type": "markdown",
   "metadata": {
    "id": "vB3lBAqDf8xV"
   },
   "source": [
    "**Comments**\n",
    "* We notice that for $\\gamma$ values below 0.7 and above 0.9, the rewards are very low in contrast to the other results. \n",
    "\n",
    "* With $\\gamma$ between 0.7 and 0.9, we get quite high rewards oscillations reaching a maximum value of 300-350. This is clearly better."
   ]
  },
  {
   "cell_type": "markdown",
   "metadata": {
    "id": "9Ug3D26PJBv7"
   },
   "source": [
    "We can notice from the previous plots a present noise in the curves. To handle this, we compute the average cumulative rewards.\n",
    "\n",
    "To more understand this, we referred to this article: \n",
    "[Reinforcement Learning: Sample-Averages w/ ε-greedy selection](https://medium.com/swlh/reinforcement-learning-foundations-sample-averages-w-%CE%B5-greedy-selection-627f0291cf5)\n",
    "\n",
    "\n",
    " This is defined and tested in the following cells:"
   ]
  },
  {
   "cell_type": "code",
   "execution_count": null,
   "metadata": {
    "id": "RQVNK9gyIjo_"
   },
   "outputs": [],
   "source": [
    "def average(rewards):\n",
    "  \"\"\"\n",
    "  Computes the average cumulative rewards\n",
    "  @params:\n",
    "          rewards (list/array): rewards \n",
    "  @return:\n",
    "          list of averages\n",
    "  \"\"\"\n",
    "  c = 0\n",
    "  averages = []\n",
    "  size = 50\n",
    "  while c<len(rewards)-size+1: #while we don't reach all rewards\n",
    "    tmp = rewards[c:c+size]\n",
    "    av = np.sum(tmp)/size\n",
    "    averages.append(av)\n",
    "    c+=1\n",
    "  return averages"
   ]
  },
  {
   "cell_type": "code",
   "execution_count": null,
   "metadata": {
    "id": "1QrjA88BTHRs"
   },
   "outputs": [],
   "source": [
    "def plot_avr(averages,c,gamma):\n",
    "  \"\"\"\n",
    "    Plotting cumulative average rewards\n",
    "    @params:\n",
    "          averages (list): average cumulative rewards\n",
    "          c (string): color\n",
    "          gamma (string): gamma value\n",
    "    @return \n",
    "          plotting\n",
    "  \"\"\"\n",
    "  plt.rcParams[\"figure.figsize\"] = (8,5)\n",
    "  plt.plot(range(len(averages)), averages,label=gamma,color = c)\n",
    "  plt.legend()\n",
    "  plt.xlabel('Episode')\n",
    "  plt.ylabel('Average reward')"
   ]
  },
  {
   "cell_type": "code",
   "execution_count": null,
   "metadata": {
    "id": "hagst68MKxi4"
   },
   "outputs": [],
   "source": [
    "#computing the cumulative average rewards for each model \n",
    "averages_05 = average(rewards_training[0]) #average for the model with gamma = 0.5\n",
    "averages_06 = average(rewards_training[1]) #average for the model with gamma = 0.6\n",
    "averages_07 = average(rewards_training[2]) #average for the model with gamma = 0.7\n",
    "averages_075 = average(rewards_training[3]) #average for the model with gamma = 0.75\n",
    "averages_08 = average(rewards_training[4]) #average for the model with gamma = 0.8\n",
    "averages_085 = average(rewards_training[5]) #average for the model with gamma = 0.85\n",
    "averages_09 = average(rewards_training[6])  #average for the model with gamma = 0.9\n",
    "averages_099 = average(rewards_training[7]) #average for the model with gamma = 0.99"
   ]
  },
  {
   "cell_type": "code",
   "execution_count": null,
   "metadata": {
    "colab": {
     "base_uri": "https://localhost:8080/",
     "height": 334
    },
    "id": "oswJyre_L7_G",
    "outputId": "95e346f0-3b8c-43b7-d441-c21668636513"
   },
   "outputs": [
    {
     "data": {
      "image/png": "[encoded data removed]",
      "text/plain": [
       "<Figure size 576x360 with 1 Axes>"
      ]
     },
     "metadata": {
      "needs_background": "light"
     },
     "output_type": "display_data"
    }
   ],
   "source": [
    "#list that contains the average cumulative rewards obtained for each model\n",
    "averages = [averages_05,averages_06,averages_07 ,averages_075 ,averages_08,averages_085,averages_09,averages_099]\n",
    "i = 0\n",
    "for average in averages:\n",
    "  plot_avr(average,colors[i],gammas[i])\n",
    "  i+=1"
   ]
  },
  {
   "cell_type": "markdown",
   "metadata": {
    "id": "cLnABrSMgfBG"
   },
   "source": [
    "Plotting the average rewards for each model"
   ]
  },
  {
   "cell_type": "code",
   "execution_count": null,
   "metadata": {
    "colab": {
     "base_uri": "https://localhost:8080/",
     "height": 334
    },
    "id": "HSSaWAeuVAh7",
    "outputId": "e84842fb-c385-4809-ef6e-6eb7f672b36b"
   },
   "outputs": [
    {
     "data": {
      "image/png": "[encoded data removed]",
      "text/plain": [
       "<Figure size 576x360 with 1 Axes>"
      ]
     },
     "metadata": {
      "needs_background": "light"
     },
     "output_type": "display_data"
    }
   ],
   "source": [
    "plot_avr(averages_05,colors[0],gammas[0])"
   ]
  },
  {
   "cell_type": "code",
   "execution_count": null,
   "metadata": {
    "colab": {
     "base_uri": "https://localhost:8080/",
     "height": 334
    },
    "id": "TlODFMWCVeZX",
    "outputId": "280aecee-7db6-4fb0-b1c1-17aa15b14ed9"
   },
   "outputs": [
    {
     "data": {
      "image/png": "[encoded data removed]",
      "text/plain": [
       "<Figure size 576x360 with 1 Axes>"
      ]
     },
     "metadata": {
      "needs_background": "light"
     },
     "output_type": "display_data"
    }
   ],
   "source": [
    "plot_avr(averages_06,colors[1],gammas[1])"
   ]
  },
  {
   "cell_type": "code",
   "execution_count": null,
   "metadata": {
    "colab": {
     "base_uri": "https://localhost:8080/",
     "height": 334
    },
    "id": "zF-fkFJsVemg",
    "outputId": "1317b823-a4d7-452f-91fd-b078c5e4d264"
   },
   "outputs": [
    {
     "data": {
      "image/png": "[encoded data removed]",
      "text/plain": [
       "<Figure size 576x360 with 1 Axes>"
      ]
     },
     "metadata": {
      "needs_background": "light"
     },
     "output_type": "display_data"
    }
   ],
   "source": [
    "plot_avr(averages_075,colors[2],gammas[2])"
   ]
  },
  {
   "cell_type": "code",
   "execution_count": null,
   "metadata": {
    "colab": {
     "base_uri": "https://localhost:8080/",
     "height": 334
    },
    "id": "kXnHeOTHVesi",
    "outputId": "15311a5d-03bc-41e9-84ca-7d1230f6c0a2"
   },
   "outputs": [
    {
     "data": {
      "image/png": "[encoded data removed]",
      "text/plain": [
       "<Figure size 576x360 with 1 Axes>"
      ]
     },
     "metadata": {
      "needs_background": "light"
     },
     "output_type": "display_data"
    }
   ],
   "source": [
    "plot_avr(averages_07,colors[3],gammas[3])"
   ]
  },
  {
   "cell_type": "code",
   "execution_count": null,
   "metadata": {
    "colab": {
     "base_uri": "https://localhost:8080/",
     "height": 334
    },
    "id": "8Tng3G-QVk4A",
    "outputId": "0f440a92-7655-4235-bfd8-c675293edbe6"
   },
   "outputs": [
    {
     "data": {
      "image/png": "[encoded data removed]",
      "text/plain": [
       "<Figure size 576x360 with 1 Axes>"
      ]
     },
     "metadata": {
      "needs_background": "light"
     },
     "output_type": "display_data"
    }
   ],
   "source": [
    "plot_avr(averages_08,colors[4],gammas[4])"
   ]
  },
  {
   "cell_type": "code",
   "execution_count": null,
   "metadata": {
    "colab": {
     "base_uri": "https://localhost:8080/",
     "height": 334
    },
    "id": "0uHUH0YkVlB7",
    "outputId": "f8d8fc91-b96e-4f54-baff-a78abd709460"
   },
   "outputs": [
    {
     "data": {
      "image/png": "[encoded data removed]",
      "text/plain": [
       "<Figure size 576x360 with 1 Axes>"
      ]
     },
     "metadata": {
      "needs_background": "light"
     },
     "output_type": "display_data"
    }
   ],
   "source": [
    "plot_avr(averages_085,colors[5],gammas[5])"
   ]
  },
  {
   "cell_type": "code",
   "execution_count": null,
   "metadata": {
    "colab": {
     "base_uri": "https://localhost:8080/",
     "height": 334
    },
    "id": "pjjLgx9UVlLS",
    "outputId": "4f894019-be77-42d1-d75f-b4b4089790ed"
   },
   "outputs": [
    {
     "data": {
      "image/png": "[encoded data removed]",
      "text/plain": [
       "<Figure size 576x360 with 1 Axes>"
      ]
     },
     "metadata": {
      "needs_background": "light"
     },
     "output_type": "display_data"
    }
   ],
   "source": [
    "plot_avr(averages_09,colors[6],gammas[6])"
   ]
  },
  {
   "cell_type": "code",
   "execution_count": null,
   "metadata": {
    "colab": {
     "base_uri": "https://localhost:8080/",
     "height": 334
    },
    "id": "bjmuRY6kVrrb",
    "outputId": "e3410347-e219-4ed4-9cf5-26388494510f"
   },
   "outputs": [
    {
     "data": {
      "image/png": "[encoded data removed]",
      "text/plain": [
       "<Figure size 576x360 with 1 Axes>"
      ]
     },
     "metadata": {
      "needs_background": "light"
     },
     "output_type": "display_data"
    }
   ],
   "source": [
    "plot_avr(averages_099,colors[7],gammas[7])"
   ]
  },
  {
   "cell_type": "markdown",
   "metadata": {
    "id": "FRJ5eGYVV4Lq"
   },
   "source": [
    "From these different curves with less noise, we can notice that the best value of gamma (the one that gives us highest scores) is 0.9. \n",
    "\n",
    "These new plots confirm our previous comment: the values of gamma lower than 0.7 and higher than 0.9 are not giving good results"
   ]
  },
  {
   "cell_type": "markdown",
   "metadata": {
    "id": "8gmlP6F-_Ety"
   },
   "source": [
    "### 6.2. Analysis of test results"
   ]
  },
  {
   "cell_type": "markdown",
   "metadata": {
    "id": "YYGF9fpzgL_S"
   },
   "source": [
    "Now for the testing step, we compare the predictions that the neural network makes for each different value of $\\gamma$.\n",
    "The function performing this is described in the next cell.  "
   ]
  },
  {
   "cell_type": "code",
   "execution_count": null,
   "metadata": {
    "id": "VJJXlNSf-9ue"
   },
   "outputs": [],
   "source": [
    "def test(model,env,nb_iters):\n",
    "  \"\"\"\n",
    "  Testing the model \n",
    "  @params: \n",
    "      model: trained q-value function approximator (ANN) \n",
    "      env: game environment\n",
    "      nb_iters: number of iterations\n",
    "  \"\"\"\n",
    "  rewards = [] #values of rewards for all episodes\n",
    "  for iter in tqdm(range(nb_iters)):\n",
    "    #itializing environment\n",
    "    obs = env.reset()\n",
    "    done = False #true if the state/observation is terminate state\n",
    "    ep_reward = 0 #value of rewards for each episode\n",
    "    while not done:\n",
    "      q_values = model.predict((obs/255).reshape(1,-1)) #predicting the q_values\n",
    "      action = np.argmax(q_values) #selecting the action that gave us the best value\n",
    "      new_obs, reward, done, info = env.step(action) #setting a step in the game\n",
    "      ep_reward += reward #increasing episodes rewards\n",
    "      obs = new_obs #updating observation \n",
    "    rewards.append(ep_reward) #add episode rewards to the model rewards\n",
    "  env.close() #closing the environment\n",
    "\n",
    "  return rewards\n"
   ]
  },
  {
   "cell_type": "code",
   "execution_count": null,
   "metadata": {
    "id": "_1JF3wP0WYg8"
   },
   "outputs": [],
   "source": [
    "#loading the pretrained models \n",
    "path_ = \"/content/drive/My Drive/AI/Project/models/\"\n",
    "models = []\n",
    "for m in os.listdir(path_):\n",
    "  model = load_model(path_+m)\n",
    "  models.append((m,model))"
   ]
  },
  {
   "cell_type": "code",
   "execution_count": null,
   "metadata": {
    "colab": {
     "base_uri": "https://localhost:8080/"
    },
    "id": "iBMF1jmeRgnc",
    "outputId": "fd1e8af3-2fda-4f25-fe4a-cbb4c1c7b05f"
   },
   "outputs": [
    {
     "data": {
      "text/plain": [
       "[('model_07', <keras.engine.sequential.Sequential at 0x7fce0ffbf0d0>),\n",
       " ('model_08', <keras.engine.sequential.Sequential at 0x7fce00126dd0>),\n",
       " ('model_085', <keras.engine.sequential.Sequential at 0x7fcd9335acd0>),\n",
       " ('model_099', <keras.engine.sequential.Sequential at 0x7fcd93245f50>),\n",
       " ('model_09', <keras.engine.sequential.Sequential at 0x7fcd930bf490>),\n",
       " ('model_075', <keras.engine.sequential.Sequential at 0x7fcd93253c90>),\n",
       " ('model_05', <keras.engine.sequential.Sequential at 0x7fcd92e06810>),\n",
       " ('model_06', <keras.engine.sequential.Sequential at 0x7fcd92b5eb90>)]"
      ]
     },
     "execution_count": 25,
     "metadata": {},
     "output_type": "execute_result"
    }
   ],
   "source": [
    "#printing our models: to check if all of them have been added\n",
    "models"
   ]
  },
  {
   "cell_type": "markdown",
   "metadata": {
    "id": "XiJwDwMnZPCY"
   },
   "source": [
    "Now we have our model, we need to evaluate and select the best value of $\\gamma$. \n",
    "\n",
    "To do so, we decided to play with our agent during 4 iteration and compare the resulted values. \n",
    "\n",
    "This is done in the following cells:"
   ]
  },
  {
   "cell_type": "code",
   "execution_count": null,
   "metadata": {
    "colab": {
     "base_uri": "https://localhost:8080/",
     "height": 273,
     "referenced_widgets": [
      "b0a75ae53c9c4cfb804d2312f889fd4a",
      "1d7fa11e6c9e4cc39345a47dd1499131",
      "b2322ccb64094b6c879de4efa9eb2297",
      "6e7e82b8e8ba4904af24c826e649d08e",
      "0e393a6a56dd4fd5a8d51f852377d8fa",
      "3640252cadb4420390a87fea5f749ba5",
      "1e425cb94e0141b7b5960f85735652d8",
      "811ac4ff7af745ce9a4a48aa6b5c18db",
      "da12c64974d046efb357dd5d10c42aae",
      "ac3027cd66644f22b7bc7b336c24938e",
      "a9bd13dbbe204db89afa1485292083fc",
      "6ff949e377484d21a308be936e8a855b",
      "9ebc94d552d8473e9c3806ea5c91f6d8",
      "3e0ca65baeb24e46a6d866de3e4723c2",
      "cf6cbdccd6bd47eebf3dca7ed0f95efa",
      "ec7e33ec0fc343a7aa6f201c60947788",
      "fd69170e946f480d80d83fc024ea0304",
      "c6c77238e4cf4450b9fa6f0a4fee1645",
      "f282386a647f454e9803628f3472972f",
      "54044525e6dc43199d25086cbefd7bf3",
      "ce99bdc1417f43ee82b3b912962224c9",
      "5fd413c3f803427da99eceab5f84368c",
      "4dc8fe979a3047ab9786c5773f078490",
      "85d693426dd545ab950a961bbb58f1b3",
      "d03eb372094d4baba1ad7ec08ccab9f9",
      "cd3d47e4cf0645549bfca875ef1be933",
      "aadf551a3b864c09bd51937ac536dbe8",
      "21454c8df15b4d2fb89f31df987e14f9",
      "6e436594f806472cbbf2b3540df48265",
      "0146a30f3d1b4ec2b79220e255f2779d",
      "416e039d210a4bd18238c49722d350dc",
      "a6e11b49a0dd43c793f141cc9575c191",
      "c89491fd190e4d07b4936bc9685d615b",
      "8a89be92b6924a6f988e460486d52892",
      "9660ef60a1fa48caa1ad9c0768779f45",
      "a98e721fe74b4a54b519bcb5cdcf86ae",
      "e005afdb38fa4b6c8d888dc15f7800c4",
      "4d685be76bd74754b08a5ed47c3aa0a2",
      "c42aed6b9b4947ebaa6f46e19d06d5e8",
      "efdddffd33bc47dfa27efa179da170a6",
      "c45560b78380448db72b7beee4008418",
      "0e9cf401b5534a908bec2775d01424a0",
      "a5538cd7fcd9495b987a0345df57a023",
      "f71ba88284be4808b84cc2fd57bacbad",
      "f006f6bd304d4adc95892bab9c6eecb5",
      "43e0967c28654be6a0d8bc09be6817aa",
      "da2e3107f21e439fa64ac4b5515d04f5",
      "343be38ba38a49f3b9e5d2766f37c00f",
      "f7afbf7842d94330b43001a8acb4b3c9",
      "29b844187ad64537a132a48ae5e49b83",
      "5e013be115c040f7bd78fa254d152dcc",
      "bb62d89bd3464cb382046321cb3cb069",
      "71efb6e4f7c848598f4321761ea44a22",
      "41262aa2f2f746809b2ceeb96802de9e",
      "0db62ff5d59b44a581c997a493a7ff63",
      "ab09c54734524902940ffff49a64b3f8",
      "08e65cb065bf49b4b1ab1e37bcf2bf6b",
      "de3ebdf9ba9a4aa99be3fc4f06f14402",
      "74f14787b14f421faf01bb4361d562c0",
      "35dd95771b154c878441099c24fe22c0",
      "3a34a5dfe60b4b828b160b7e64806685",
      "927a8745363846eeba92ee6eaa96b9e9",
      "4fdaa25dba434e279479e04beb0736e3",
      "a127e15a8cdf450788012cc5f14a4990",
      "192ed4c9a5e547c898e0cf5acaa2f7ef",
      "96258b259d7d4994bea25915c0f9328d",
      "350c02c484d246579f4b5c4023593376",
      "31560df10bbd4e29b88168beab47916c",
      "c73e484622b146719540a6799e6cd0ae",
      "c37c578b7c8b4325bb651fa49a8dbbe1",
      "4a1ac347dd0d424e90b1d0b7f55cfb45",
      "27cf249369ea49ce978c2be8c381a6d4",
      "e4344d92950d49c19421d5ce7a564952",
      "b664ac6ef06143d5a2db1fbf83ae4712",
      "fe85dfc917aa4d24aff2596475f0ba7a",
      "33669f3932a04d53a52d77645998fce4",
      "f1a75c77fc7a466f9ea7b22e085cdfe0",
      "73adc3b73c0e4debb7e9aaf2b2df51b6",
      "a6df4a03ae694deab055c97da1698265",
      "40e34e9ade184bedb4b58cd127d4d301",
      "37188892e8cf4ff18ae8d235904a0941",
      "86588fd021494c2f843d1b1c5c511ba4",
      "d70e8c21ef094e7789ada662bb81d8a2",
      "aa5ae1378a604620b3956c6528539829",
      "d8ce8b88e04b44ed82c59237e5fe2250",
      "765f1e274fc242de9c59ecf55c48f64b",
      "c81296e9d2e0483ca839d04526aab837",
      "a931d1efea644285bd28083d0f247e67"
     ]
    },
    "id": "5cWTfIqBSQ5D",
    "outputId": "4cfa6786-5fb4-41ea-b278-19c48598c6c0"
   },
   "outputs": [
    {
     "data": {
      "application/vnd.jupyter.widget-view+json": {
       "model_id": "b0a75ae53c9c4cfb804d2312f889fd4a",
       "version_major": 2,
       "version_minor": 0
      },
      "text/plain": [
       "  0%|          | 0/4 [00:00<?, ?it/s]"
      ]
     },
     "metadata": {},
     "output_type": "display_data"
    },
    {
     "data": {
      "application/vnd.jupyter.widget-view+json": {
       "model_id": "6ff949e377484d21a308be936e8a855b",
       "version_major": 2,
       "version_minor": 0
      },
      "text/plain": [
       "  0%|          | 0/4 [00:00<?, ?it/s]"
      ]
     },
     "metadata": {},
     "output_type": "display_data"
    },
    {
     "data": {
      "application/vnd.jupyter.widget-view+json": {
       "model_id": "4dc8fe979a3047ab9786c5773f078490",
       "version_major": 2,
       "version_minor": 0
      },
      "text/plain": [
       "  0%|          | 0/4 [00:00<?, ?it/s]"
      ]
     },
     "metadata": {},
     "output_type": "display_data"
    },
    {
     "data": {
      "application/vnd.jupyter.widget-view+json": {
       "model_id": "8a89be92b6924a6f988e460486d52892",
       "version_major": 2,
       "version_minor": 0
      },
      "text/plain": [
       "  0%|          | 0/4 [00:00<?, ?it/s]"
      ]
     },
     "metadata": {},
     "output_type": "display_data"
    },
    {
     "data": {
      "application/vnd.jupyter.widget-view+json": {
       "model_id": "f006f6bd304d4adc95892bab9c6eecb5",
       "version_major": 2,
       "version_minor": 0
      },
      "text/plain": [
       "  0%|          | 0/4 [00:00<?, ?it/s]"
      ]
     },
     "metadata": {},
     "output_type": "display_data"
    },
    {
     "data": {
      "application/vnd.jupyter.widget-view+json": {
       "model_id": "ab09c54734524902940ffff49a64b3f8",
       "version_major": 2,
       "version_minor": 0
      },
      "text/plain": [
       "  0%|          | 0/4 [00:00<?, ?it/s]"
      ]
     },
     "metadata": {},
     "output_type": "display_data"
    },
    {
     "data": {
      "application/vnd.jupyter.widget-view+json": {
       "model_id": "350c02c484d246579f4b5c4023593376",
       "version_major": 2,
       "version_minor": 0
      },
      "text/plain": [
       "  0%|          | 0/4 [00:00<?, ?it/s]"
      ]
     },
     "metadata": {},
     "output_type": "display_data"
    },
    {
     "data": {
      "application/vnd.jupyter.widget-view+json": {
       "model_id": "73adc3b73c0e4debb7e9aaf2b2df51b6",
       "version_major": 2,
       "version_minor": 0
      },
      "text/plain": [
       "  0%|          | 0/4 [00:00<?, ?it/s]"
      ]
     },
     "metadata": {},
     "output_type": "display_data"
    }
   ],
   "source": [
    "#testing the models\n",
    "test_reward_07 = test(models[1][1],env,4) #value of gamma = 0.7\n",
    "test_reward_075 = test(models[0][1],env,4) #value of gamma = 0.75\n",
    "test_reward_085 = test(models[3][1],env,4) #value of gamma = 0.85\n",
    "test_reward_08 = test(models[2][1],env,4) #value of gamma = 0.8\n",
    "test_reward_09 = test(models[5][1],env,4) #value of gamma = 0.9\n",
    "test_reward_099 = test(models[4][1],env,4) #value of gamma = 0.99\n",
    "test_reward_05 = test(models[6][1],env,4) #value of gamma = 0.5\n",
    "test_reward_06 = test(models[7][1],env,4) #value of gamma = 0.6"
   ]
  },
  {
   "cell_type": "code",
   "execution_count": null,
   "metadata": {
    "colab": {
     "base_uri": "https://localhost:8080/",
     "height": 350
    },
    "id": "rKYQEqlUSb-m",
    "outputId": "0afcb1a7-4211-423b-ec1f-a917aa982193"
   },
   "outputs": [
    {
     "data": {
      "image/png": "[encoded data removed]",
      "text/plain": [
       "<Figure size 576x360 with 1 Axes>"
      ]
     },
     "metadata": {
      "needs_background": "light"
     },
     "output_type": "display_data"
    }
   ],
   "source": [
    "#list of rewards obtained for each model during the test phase\n",
    "rewards_test = [test_reward_05,test_reward_06,test_reward_07 ,test_reward_075 ,test_reward_08,test_reward_085,test_reward_09,test_reward_099]\n",
    "colors = ['m','b','k','c','y','r','g','orange']\n",
    "gammas = ['0.5','0.6','0.7','0.75','0.8','0.85','0.9','0.99']\n",
    "i = 0\n",
    "for rewards in rewards_test:\n",
    "  plot_reward(rewards,colors[i],gammas[i])\n",
    "  i+=1"
   ]
  },
  {
   "cell_type": "code",
   "execution_count": null,
   "metadata": {
    "colab": {
     "base_uri": "https://localhost:8080/",
     "height": 350
    },
    "id": "6eBInxesIrJL",
    "outputId": "87e368e2-d965-4b32-bfee-5ccce01ab850"
   },
   "outputs": [
    {
     "data": {
      "image/png": "[encoded data removed]",
      "text/plain": [
       "<Figure size 576x360 with 1 Axes>"
      ]
     },
     "metadata": {
      "needs_background": "light"
     },
     "output_type": "display_data"
    }
   ],
   "source": [
    "plot_reward(rewards_test[0],colors[0],gammas[0])"
   ]
  },
  {
   "cell_type": "code",
   "execution_count": null,
   "metadata": {
    "colab": {
     "base_uri": "https://localhost:8080/",
     "height": 350
    },
    "id": "j3cd4ezVIyO-",
    "outputId": "17c8fcc4-315e-4451-b33d-7ac4e90b4fff"
   },
   "outputs": [
    {
     "data": {
      "image/png": "[encoded data removed]",
      "text/plain": [
       "<Figure size 576x360 with 1 Axes>"
      ]
     },
     "metadata": {
      "needs_background": "light"
     },
     "output_type": "display_data"
    }
   ],
   "source": [
    "plot_reward(rewards_test[1],colors[1],gammas[1])"
   ]
  },
  {
   "cell_type": "code",
   "execution_count": null,
   "metadata": {
    "colab": {
     "base_uri": "https://localhost:8080/",
     "height": 350
    },
    "id": "9GOi5S1CIyT3",
    "outputId": "b36edf84-b0f7-47e7-985b-1535a507e636"
   },
   "outputs": [
    {
     "data": {
      "image/png": "[encoded data removed]",
      "text/plain": [
       "<Figure size 576x360 with 1 Axes>"
      ]
     },
     "metadata": {
      "needs_background": "light"
     },
     "output_type": "display_data"
    }
   ],
   "source": [
    "plot_reward(rewards_test[2],colors[2],gammas[2])"
   ]
  },
  {
   "cell_type": "code",
   "execution_count": null,
   "metadata": {
    "colab": {
     "base_uri": "https://localhost:8080/",
     "height": 350
    },
    "id": "DmaF8Ks1IyWw",
    "outputId": "eee44cc4-a441-4b2c-bfc9-89904ea50aa2"
   },
   "outputs": [
    {
     "data": {
      "image/png": "[encoded data removed]",
      "text/plain": [
       "<Figure size 576x360 with 1 Axes>"
      ]
     },
     "metadata": {
      "needs_background": "light"
     },
     "output_type": "display_data"
    }
   ],
   "source": [
    "plot_reward(rewards_test[3],colors[3],gammas[3])"
   ]
  },
  {
   "cell_type": "code",
   "execution_count": null,
   "metadata": {
    "colab": {
     "base_uri": "https://localhost:8080/",
     "height": 350
    },
    "id": "yjXOxRuDIyhZ",
    "outputId": "10415a7f-b253-4fd6-828c-4ae86c8cdc26"
   },
   "outputs": [
    {
     "data": {
      "image/png": "[encoded data removed]",
      "text/plain": [
       "<Figure size 576x360 with 1 Axes>"
      ]
     },
     "metadata": {
      "needs_background": "light"
     },
     "output_type": "display_data"
    }
   ],
   "source": [
    "plot_reward(rewards_test[4],colors[4],gammas[4])"
   ]
  },
  {
   "cell_type": "code",
   "execution_count": null,
   "metadata": {
    "colab": {
     "base_uri": "https://localhost:8080/",
     "height": 350
    },
    "id": "RBwMS11AIyj9",
    "outputId": "a5a786ee-f867-4289-cff0-ae7cc8b9751c"
   },
   "outputs": [
    {
     "data": {
      "image/png": "[encoded data removed]",
      "text/plain": [
       "<Figure size 576x360 with 1 Axes>"
      ]
     },
     "metadata": {
      "needs_background": "light"
     },
     "output_type": "display_data"
    }
   ],
   "source": [
    "plot_reward(rewards_test[5],colors[5],gammas[5])"
   ]
  },
  {
   "cell_type": "code",
   "execution_count": null,
   "metadata": {
    "colab": {
     "base_uri": "https://localhost:8080/",
     "height": 350
    },
    "id": "7laiNwsHIynu",
    "outputId": "69ffd3cd-ae75-4fa1-cca0-32ca67f7d52a"
   },
   "outputs": [
    {
     "data": {
      "image/png": "[encoded data removed]",
      "text/plain": [
       "<Figure size 576x360 with 1 Axes>"
      ]
     },
     "metadata": {
      "needs_background": "light"
     },
     "output_type": "display_data"
    }
   ],
   "source": [
    "plot_reward(rewards_test[6],colors[6],gammas[6])"
   ]
  },
  {
   "cell_type": "code",
   "execution_count": null,
   "metadata": {
    "colab": {
     "base_uri": "https://localhost:8080/",
     "height": 350
    },
    "id": "CtJyDFfZI40a",
    "outputId": "d788a945-60e4-4f3d-e129-d45ead1a78ff"
   },
   "outputs": [
    {
     "data": {
      "image/png": "[encoded data removed]",
      "text/plain": [
       "<Figure size 576x360 with 1 Axes>"
      ]
     },
     "metadata": {
      "needs_background": "light"
     },
     "output_type": "display_data"
    }
   ],
   "source": [
    "plot_reward(rewards_test[7],colors[7],gammas[7])"
   ]
  },
  {
   "cell_type": "markdown",
   "metadata": {
    "id": "jeJUb1f4gfH5"
   },
   "source": [
    "In order to make a clearer analysis and have a more visible comparison, we have calculated the average of the rewards obtained for each model as well as the maximum and minimum. The results are summarised in the following dataframe:"
   ]
  },
  {
   "cell_type": "code",
   "execution_count": null,
   "metadata": {
    "id": "ZPhOE1RxWXke"
   },
   "outputs": [],
   "source": [
    "mean = [np.mean(r) for r in rewards_test] #computing the mean value in each model rewards\n",
    "max = [np.max(r) for r in rewards_test] #computing the max value in each model rewards\n",
    "min = [np.min(r) for r in rewards_test] #computing the min value in each model rewards"
   ]
  },
  {
   "cell_type": "code",
   "execution_count": null,
   "metadata": {
    "colab": {
     "base_uri": "https://localhost:8080/",
     "height": 355
    },
    "id": "g-0GYebOntG3",
    "outputId": "d7b800f2-07a3-4dc5-d359-4f3a97300c44"
   },
   "outputs": [
    {
     "name": "stderr",
     "output_type": "stream",
     "text": [
      "/usr/local/lib/python3.7/dist-packages/IPython/core/interactiveshell.py:2882: FutureWarning: Could not cast to float64, falling back to object. This behavior is deprecated. In a future version, when a dtype is passed to 'DataFrame', either all columns will be cast to that dtype, or a TypeError will be raised\n",
      "  exec(code_obj, self.user_global_ns, self.user_ns)\n"
     ]
    },
    {
     "data": {
      "text/html": [
       "\n",
       "  <div id=\"df-eef57425-c1f4-44d1-ac4a-cf6aaf4275d0\">\n",
       "    <div class=\"colab-df-container\">\n",
       "      <div>\n",
       "<style scoped>\n",
       "    .dataframe tbody tr th:only-of-type {\n",
       "        vertical-align: middle;\n",
       "    }\n",
       "\n",
       "    .dataframe tbody tr th {\n",
       "        vertical-align: top;\n",
       "    }\n",
       "\n",
       "    .dataframe thead th {\n",
       "        text-align: right;\n",
       "    }\n",
       "</style>\n",
       "<table border=\"1\" class=\"dataframe\">\n",
       "  <thead>\n",
       "    <tr style=\"text-align: right;\">\n",
       "      <th></th>\n",
       "      <th>Model</th>\n",
       "      <th>Mean</th>\n",
       "      <th>Max</th>\n",
       "      <th>Min</th>\n",
       "    </tr>\n",
       "  </thead>\n",
       "  <tbody>\n",
       "    <tr>\n",
       "      <th>0</th>\n",
       "      <td>model_05</td>\n",
       "      <td>127.5</td>\n",
       "      <td>140.0</td>\n",
       "      <td>120.0</td>\n",
       "    </tr>\n",
       "    <tr>\n",
       "      <th>1</th>\n",
       "      <td>model_06</td>\n",
       "      <td>252.5</td>\n",
       "      <td>360.0</td>\n",
       "      <td>160.0</td>\n",
       "    </tr>\n",
       "    <tr>\n",
       "      <th>2</th>\n",
       "      <td>model_07</td>\n",
       "      <td>215.0</td>\n",
       "      <td>240.0</td>\n",
       "      <td>160.0</td>\n",
       "    </tr>\n",
       "    <tr>\n",
       "      <th>3</th>\n",
       "      <td>model_075</td>\n",
       "      <td>267.5</td>\n",
       "      <td>290.0</td>\n",
       "      <td>260.0</td>\n",
       "    </tr>\n",
       "    <tr>\n",
       "      <th>4</th>\n",
       "      <td>model_08</td>\n",
       "      <td>162.5</td>\n",
       "      <td>230.0</td>\n",
       "      <td>140.0</td>\n",
       "    </tr>\n",
       "    <tr>\n",
       "      <th>5</th>\n",
       "      <td>model_085</td>\n",
       "      <td>100.0</td>\n",
       "      <td>100.0</td>\n",
       "      <td>100.0</td>\n",
       "    </tr>\n",
       "    <tr>\n",
       "      <th>6</th>\n",
       "      <td>model_09</td>\n",
       "      <td>150.0</td>\n",
       "      <td>150.0</td>\n",
       "      <td>150.0</td>\n",
       "    </tr>\n",
       "    <tr>\n",
       "      <th>7</th>\n",
       "      <td>model_099</td>\n",
       "      <td>157.5</td>\n",
       "      <td>170.0</td>\n",
       "      <td>140.0</td>\n",
       "    </tr>\n",
       "  </tbody>\n",
       "</table>\n",
       "</div>\n",
       "      <button class=\"colab-df-convert\" onclick=\"convertToInteractive('df-eef57425-c1f4-44d1-ac4a-cf6aaf4275d0')\"\n",
       "              title=\"Convert this dataframe to an interactive table.\"\n",
       "              style=\"display:none;\">\n",
       "        \n",
       "  <svg xmlns=\"http://www.w3.org/2000/svg\" height=\"24px\"viewBox=\"0 0 24 24\"\n",
       "       width=\"24px\">\n",
       "    <path d=\"M0 0h24v24H0V0z\" fill=\"none\"/>\n",
       "    <path d=\"M18.56 5.44l.94 2.06.94-2.06 2.06-.94-2.06-.94-.94-2.06-.94 2.06-2.06.94zm-11 1L8.5 8.5l.94-2.06 2.06-.94-2.06-.94L8.5 2.5l-.94 2.06-2.06.94zm10 10l.94 2.06.94-2.06 2.06-.94-2.06-.94-.94-2.06-.94 2.06-2.06.94z\"/><path d=\"M17.41 7.96l-1.37-1.37c-.4-.4-.92-.59-1.43-.59-.52 0-1.04.2-1.43.59L10.3 9.45l-7.72 7.72c-.78.78-.78 2.05 0 2.83L4 21.41c.39.39.9.59 1.41.59.51 0 1.02-.2 1.41-.59l7.78-7.78 2.81-2.81c.8-.78.8-2.07 0-2.86zM5.41 20L4 18.59l7.72-7.72 1.47 1.35L5.41 20z\"/>\n",
       "  </svg>\n",
       "      </button>\n",
       "      \n",
       "  <style>\n",
       "    .colab-df-container {\n",
       "      display:flex;\n",
       "      flex-wrap:wrap;\n",
       "      gap: 12px;\n",
       "    }\n",
       "\n",
       "    .colab-df-convert {\n",
       "      background-color: #E8F0FE;\n",
       "      border: none;\n",
       "      border-radius: 50%;\n",
       "      cursor: pointer;\n",
       "      display: none;\n",
       "      fill: #1967D2;\n",
       "      height: 32px;\n",
       "      padding: 0 0 0 0;\n",
       "      width: 32px;\n",
       "    }\n",
       "\n",
       "    .colab-df-convert:hover {\n",
       "      background-color: #E2EBFA;\n",
       "      box-shadow: 0px 1px 2px rgba(60, 64, 67, 0.3), 0px 1px 3px 1px rgba(60, 64, 67, 0.15);\n",
       "      fill: #174EA6;\n",
       "    }\n",
       "\n",
       "    [theme=dark] .colab-df-convert {\n",
       "      background-color: #3B4455;\n",
       "      fill: #D2E3FC;\n",
       "    }\n",
       "\n",
       "    [theme=dark] .colab-df-convert:hover {\n",
       "      background-color: #434B5C;\n",
       "      box-shadow: 0px 1px 3px 1px rgba(0, 0, 0, 0.15);\n",
       "      filter: drop-shadow(0px 1px 2px rgba(0, 0, 0, 0.3));\n",
       "      fill: #FFFFFF;\n",
       "    }\n",
       "  </style>\n",
       "\n",
       "      <script>\n",
       "        const buttonEl =\n",
       "          document.querySelector('#df-eef57425-c1f4-44d1-ac4a-cf6aaf4275d0 button.colab-df-convert');\n",
       "        buttonEl.style.display =\n",
       "          google.colab.kernel.accessAllowed ? 'block' : 'none';\n",
       "\n",
       "        async function convertToInteractive(key) {\n",
       "          const element = document.querySelector('#df-eef57425-c1f4-44d1-ac4a-cf6aaf4275d0');\n",
       "          const dataTable =\n",
       "            await google.colab.kernel.invokeFunction('convertToInteractive',\n",
       "                                                     [key], {});\n",
       "          if (!dataTable) return;\n",
       "\n",
       "          const docLinkHtml = 'Like what you see? Visit the ' +\n",
       "            '<a target=\"_blank\" href=https://colab.research.google.com/notebooks/data_table.ipynb>data table notebook</a>'\n",
       "            + ' to learn more about interactive tables.';\n",
       "          element.innerHTML = '';\n",
       "          dataTable['output_type'] = 'display_data';\n",
       "          await google.colab.output.renderOutput(dataTable, element);\n",
       "          const docLink = document.createElement('div');\n",
       "          docLink.innerHTML = docLinkHtml;\n",
       "          element.appendChild(docLink);\n",
       "        }\n",
       "      </script>\n",
       "    </div>\n",
       "  </div>\n",
       "  "
      ],
      "text/plain": [
       "       Model   Mean    Max    Min\n",
       "0   model_05  127.5  140.0  120.0\n",
       "1   model_06  252.5  360.0  160.0\n",
       "2   model_07  215.0  240.0  160.0\n",
       "3  model_075  267.5  290.0  260.0\n",
       "4   model_08  162.5  230.0  140.0\n",
       "5  model_085  100.0  100.0  100.0\n",
       "6   model_09  150.0  150.0  150.0\n",
       "7  model_099  157.5  170.0  140.0"
      ]
     },
     "execution_count": 80,
     "metadata": {},
     "output_type": "execute_result"
    }
   ],
   "source": [
    "#creating a dataframe to have clear results\n",
    "l = [['model_05',mean[0],max[0],min[0]]\n",
    "     ,['model_06',mean[1],max[1],min[1]]\n",
    "     ,['model_07',mean[2],max[2],min[2]]\n",
    "     ,['model_075',mean[3],max[3],min[3]]\n",
    "     ,['model_08',mean[4],max[4],min[4]]\n",
    "     ,['model_085',mean[5],max[5],min[5]]\n",
    "     ,['model_09',mean[6],max[6],min[6]]\n",
    "     ,['model_099',mean[7],max[7],min[7]]]\n",
    "\n",
    "df = pd.DataFrame(l, columns =['Model', 'Mean', 'Max','Min'], dtype = float)\n",
    "df"
   ]
  },
  {
   "cell_type": "markdown",
   "metadata": {
    "id": "Bub6pZlQdSuL"
   },
   "source": [
    "The values of minimum rewards and maximums allow us to situate ourselves a bit. But the most important metric is the average. It allows us to know which $\\gamma$ value gives the best performing agent. \n",
    "\n",
    "We can see for example that, in spite of the fact that the model with $\\gamma = 0.6$ allows us to obtain the maximum value of rewards. Nevertheless, its average is lower than the one of the model with $\\gamma = 0.75$ which in fact turns out to be the best. We thus conclude that $\\gamma = 0.75$, guarantees us to have the most optimal and powerful agent. "
   ]
  }
 ],
 "metadata": {
  "accelerator": "GPU",
  "colab": {
   "collapsed_sections": [],
   "name": "Alien_RL.ipynb",
   "provenance": []
  },
  "kernelspec": {
   "display_name": "Python 3 (ipykernel)",
   "language": "python",
   "name": "python3"
  },
  "language_info": {
   "codemirror_mode": {
    "name": "ipython",
    "version": 3
   },
   "file_extension": ".py",
   "mimetype": "text/x-python",
   "name": "python",
   "nbconvert_exporter": "python",
   "pygments_lexer": "ipython3",
   "version": "3.9.7"
  },
  "widgets": {
   "application/vnd.jupyter.widget-state+json": {
    "0146a30f3d1b4ec2b79220e255f2779d": {
     "model_module": "@jupyter-widgets/base",
     "model_module_version": "1.2.0",
     "model_name": "LayoutModel",
     "state": {
      "_model_module": "@jupyter-widgets/base",
      "_model_module_version": "1.2.0",
      "_model_name": "LayoutModel",
      "_view_count": null,
      "_view_module": "@jupyter-widgets/base",
      "_view_module_version": "1.2.0",
      "_view_name": "LayoutView",
      "align_content": null,
      "align_items": null,
      "align_self": null,
      "border": null,
      "bottom": null,
      "display": null,
      "flex": null,
      "flex_flow": null,
      "grid_area": null,
      "grid_auto_columns": null,
      "grid_auto_flow": null,
      "grid_auto_rows": null,
      "grid_column": null,
      "grid_gap": null,
      "grid_row": null,
      "grid_template_areas": null,
      "grid_template_columns": null,
      "grid_template_rows": null,
      "height": null,
      "justify_content": null,
      "justify_items": null,
      "left": null,
      "margin": null,
      "max_height": null,
      "max_width": null,
      "min_height": null,
      "min_width": null,
      "object_fit": null,
      "object_position": null,
      "order": null,
      "overflow": null,
      "overflow_x": null,
      "overflow_y": null,
      "padding": null,
      "right": null,
      "top": null,
      "visibility": null,
      "width": null
     }
    },
    "08e65cb065bf49b4b1ab1e37bcf2bf6b": {
     "model_module": "@jupyter-widgets/controls",
     "model_module_version": "1.5.0",
     "model_name": "HTMLModel",
     "state": {
      "_dom_classes": [],
      "_model_module": "@jupyter-widgets/controls",
      "_model_module_version": "1.5.0",
      "_model_name": "HTMLModel",
      "_view_count": null,
      "_view_module": "@jupyter-widgets/controls",
      "_view_module_version": "1.5.0",
      "_view_name": "HTMLView",
      "description": "",
      "description_tooltip": null,
      "layout": "IPY_MODEL_3a34a5dfe60b4b828b160b7e64806685",
      "placeholder": "​",
      "style": "IPY_MODEL_927a8745363846eeba92ee6eaa96b9e9",
      "value": "100%"
     }
    },
    "0db62ff5d59b44a581c997a493a7ff63": {
     "model_module": "@jupyter-widgets/controls",
     "model_module_version": "1.5.0",
     "model_name": "DescriptionStyleModel",
     "state": {
      "_model_module": "@jupyter-widgets/controls",
      "_model_module_version": "1.5.0",
      "_model_name": "DescriptionStyleModel",
      "_view_count": null,
      "_view_module": "@jupyter-widgets/base",
      "_view_module_version": "1.2.0",
      "_view_name": "StyleView",
      "description_width": ""
     }
    },
    "0e393a6a56dd4fd5a8d51f852377d8fa": {
     "model_module": "@jupyter-widgets/base",
     "model_module_version": "1.2.0",
     "model_name": "LayoutModel",
     "state": {
      "_model_module": "@jupyter-widgets/base",
      "_model_module_version": "1.2.0",
      "_model_name": "LayoutModel",
      "_view_count": null,
      "_view_module": "@jupyter-widgets/base",
      "_view_module_version": "1.2.0",
      "_view_name": "LayoutView",
      "align_content": null,
      "align_items": null,
      "align_self": null,
      "border": null,
      "bottom": null,
      "display": null,
      "flex": null,
      "flex_flow": null,
      "grid_area": null,
      "grid_auto_columns": null,
      "grid_auto_flow": null,
      "grid_auto_rows": null,
      "grid_column": null,
      "grid_gap": null,
      "grid_row": null,
      "grid_template_areas": null,
      "grid_template_columns": null,
      "grid_template_rows": null,
      "height": null,
      "justify_content": null,
      "justify_items": null,
      "left": null,
      "margin": null,
      "max_height": null,
      "max_width": null,
      "min_height": null,
      "min_width": null,
      "object_fit": null,
      "object_position": null,
      "order": null,
      "overflow": null,
      "overflow_x": null,
      "overflow_y": null,
      "padding": null,
      "right": null,
      "top": null,
      "visibility": null,
      "width": null
     }
    },
    "0e9cf401b5534a908bec2775d01424a0": {
     "model_module": "@jupyter-widgets/controls",
     "model_module_version": "1.5.0",
     "model_name": "ProgressStyleModel",
     "state": {
      "_model_module": "@jupyter-widgets/controls",
      "_model_module_version": "1.5.0",
      "_model_name": "ProgressStyleModel",
      "_view_count": null,
      "_view_module": "@jupyter-widgets/base",
      "_view_module_version": "1.2.0",
      "_view_name": "StyleView",
      "bar_color": null,
      "description_width": ""
     }
    },
    "192ed4c9a5e547c898e0cf5acaa2f7ef": {
     "model_module": "@jupyter-widgets/base",
     "model_module_version": "1.2.0",
     "model_name": "LayoutModel",
     "state": {
      "_model_module": "@jupyter-widgets/base",
      "_model_module_version": "1.2.0",
      "_model_name": "LayoutModel",
      "_view_count": null,
      "_view_module": "@jupyter-widgets/base",
      "_view_module_version": "1.2.0",
      "_view_name": "LayoutView",
      "align_content": null,
      "align_items": null,
      "align_self": null,
      "border": null,
      "bottom": null,
      "display": null,
      "flex": null,
      "flex_flow": null,
      "grid_area": null,
      "grid_auto_columns": null,
      "grid_auto_flow": null,
      "grid_auto_rows": null,
      "grid_column": null,
      "grid_gap": null,
      "grid_row": null,
      "grid_template_areas": null,
      "grid_template_columns": null,
      "grid_template_rows": null,
      "height": null,
      "justify_content": null,
      "justify_items": null,
      "left": null,
      "margin": null,
      "max_height": null,
      "max_width": null,
      "min_height": null,
      "min_width": null,
      "object_fit": null,
      "object_position": null,
      "order": null,
      "overflow": null,
      "overflow_x": null,
      "overflow_y": null,
      "padding": null,
      "right": null,
      "top": null,
      "visibility": null,
      "width": null
     }
    },
    "1d7fa11e6c9e4cc39345a47dd1499131": {
     "model_module": "@jupyter-widgets/controls",
     "model_module_version": "1.5.0",
     "model_name": "HTMLModel",
     "state": {
      "_dom_classes": [],
      "_model_module": "@jupyter-widgets/controls",
      "_model_module_version": "1.5.0",
      "_model_name": "HTMLModel",
      "_view_count": null,
      "_view_module": "@jupyter-widgets/controls",
      "_view_module_version": "1.5.0",
      "_view_name": "HTMLView",
      "description": "",
      "description_tooltip": null,
      "layout": "IPY_MODEL_3640252cadb4420390a87fea5f749ba5",
      "placeholder": "​",
      "style": "IPY_MODEL_1e425cb94e0141b7b5960f85735652d8",
      "value": "100%"
     }
    },
    "1e425cb94e0141b7b5960f85735652d8": {
     "model_module": "@jupyter-widgets/controls",
     "model_module_version": "1.5.0",
     "model_name": "DescriptionStyleModel",
     "state": {
      "_model_module": "@jupyter-widgets/controls",
      "_model_module_version": "1.5.0",
      "_model_name": "DescriptionStyleModel",
      "_view_count": null,
      "_view_module": "@jupyter-widgets/base",
      "_view_module_version": "1.2.0",
      "_view_name": "StyleView",
      "description_width": ""
     }
    },
    "21454c8df15b4d2fb89f31df987e14f9": {
     "model_module": "@jupyter-widgets/base",
     "model_module_version": "1.2.0",
     "model_name": "LayoutModel",
     "state": {
      "_model_module": "@jupyter-widgets/base",
      "_model_module_version": "1.2.0",
      "_model_name": "LayoutModel",
      "_view_count": null,
      "_view_module": "@jupyter-widgets/base",
      "_view_module_version": "1.2.0",
      "_view_name": "LayoutView",
      "align_content": null,
      "align_items": null,
      "align_self": null,
      "border": null,
      "bottom": null,
      "display": null,
      "flex": null,
      "flex_flow": null,
      "grid_area": null,
      "grid_auto_columns": null,
      "grid_auto_flow": null,
      "grid_auto_rows": null,
      "grid_column": null,
      "grid_gap": null,
      "grid_row": null,
      "grid_template_areas": null,
      "grid_template_columns": null,
      "grid_template_rows": null,
      "height": null,
      "justify_content": null,
      "justify_items": null,
      "left": null,
      "margin": null,
      "max_height": null,
      "max_width": null,
      "min_height": null,
      "min_width": null,
      "object_fit": null,
      "object_position": null,
      "order": null,
      "overflow": null,
      "overflow_x": null,
      "overflow_y": null,
      "padding": null,
      "right": null,
      "top": null,
      "visibility": null,
      "width": null
     }
    },
    "27cf249369ea49ce978c2be8c381a6d4": {
     "model_module": "@jupyter-widgets/base",
     "model_module_version": "1.2.0",
     "model_name": "LayoutModel",
     "state": {
      "_model_module": "@jupyter-widgets/base",
      "_model_module_version": "1.2.0",
      "_model_name": "LayoutModel",
      "_view_count": null,
      "_view_module": "@jupyter-widgets/base",
      "_view_module_version": "1.2.0",
      "_view_name": "LayoutView",
      "align_content": null,
      "align_items": null,
      "align_self": null,
      "border": null,
      "bottom": null,
      "display": null,
      "flex": null,
      "flex_flow": null,
      "grid_area": null,
      "grid_auto_columns": null,
      "grid_auto_flow": null,
      "grid_auto_rows": null,
      "grid_column": null,
      "grid_gap": null,
      "grid_row": null,
      "grid_template_areas": null,
      "grid_template_columns": null,
      "grid_template_rows": null,
      "height": null,
      "justify_content": null,
      "justify_items": null,
      "left": null,
      "margin": null,
      "max_height": null,
      "max_width": null,
      "min_height": null,
      "min_width": null,
      "object_fit": null,
      "object_position": null,
      "order": null,
      "overflow": null,
      "overflow_x": null,
      "overflow_y": null,
      "padding": null,
      "right": null,
      "top": null,
      "visibility": null,
      "width": null
     }
    },
    "29b844187ad64537a132a48ae5e49b83": {
     "model_module": "@jupyter-widgets/base",
     "model_module_version": "1.2.0",
     "model_name": "LayoutModel",
     "state": {
      "_model_module": "@jupyter-widgets/base",
      "_model_module_version": "1.2.0",
      "_model_name": "LayoutModel",
      "_view_count": null,
      "_view_module": "@jupyter-widgets/base",
      "_view_module_version": "1.2.0",
      "_view_name": "LayoutView",
      "align_content": null,
      "align_items": null,
      "align_self": null,
      "border": null,
      "bottom": null,
      "display": null,
      "flex": null,
      "flex_flow": null,
      "grid_area": null,
      "grid_auto_columns": null,
      "grid_auto_flow": null,
      "grid_auto_rows": null,
      "grid_column": null,
      "grid_gap": null,
      "grid_row": null,
      "grid_template_areas": null,
      "grid_template_columns": null,
      "grid_template_rows": null,
      "height": null,
      "justify_content": null,
      "justify_items": null,
      "left": null,
      "margin": null,
      "max_height": null,
      "max_width": null,
      "min_height": null,
      "min_width": null,
      "object_fit": null,
      "object_position": null,
      "order": null,
      "overflow": null,
      "overflow_x": null,
      "overflow_y": null,
      "padding": null,
      "right": null,
      "top": null,
      "visibility": null,
      "width": null
     }
    },
    "31560df10bbd4e29b88168beab47916c": {
     "model_module": "@jupyter-widgets/controls",
     "model_module_version": "1.5.0",
     "model_name": "HTMLModel",
     "state": {
      "_dom_classes": [],
      "_model_module": "@jupyter-widgets/controls",
      "_model_module_version": "1.5.0",
      "_model_name": "HTMLModel",
      "_view_count": null,
      "_view_module": "@jupyter-widgets/controls",
      "_view_module_version": "1.5.0",
      "_view_name": "HTMLView",
      "description": "",
      "description_tooltip": null,
      "layout": "IPY_MODEL_27cf249369ea49ce978c2be8c381a6d4",
      "placeholder": "​",
      "style": "IPY_MODEL_e4344d92950d49c19421d5ce7a564952",
      "value": "100%"
     }
    },
    "33669f3932a04d53a52d77645998fce4": {
     "model_module": "@jupyter-widgets/base",
     "model_module_version": "1.2.0",
     "model_name": "LayoutModel",
     "state": {
      "_model_module": "@jupyter-widgets/base",
      "_model_module_version": "1.2.0",
      "_model_name": "LayoutModel",
      "_view_count": null,
      "_view_module": "@jupyter-widgets/base",
      "_view_module_version": "1.2.0",
      "_view_name": "LayoutView",
      "align_content": null,
      "align_items": null,
      "align_self": null,
      "border": null,
      "bottom": null,
      "display": null,
      "flex": null,
      "flex_flow": null,
      "grid_area": null,
      "grid_auto_columns": null,
      "grid_auto_flow": null,
      "grid_auto_rows": null,
      "grid_column": null,
      "grid_gap": null,
      "grid_row": null,
      "grid_template_areas": null,
      "grid_template_columns": null,
      "grid_template_rows": null,
      "height": null,
      "justify_content": null,
      "justify_items": null,
      "left": null,
      "margin": null,
      "max_height": null,
      "max_width": null,
      "min_height": null,
      "min_width": null,
      "object_fit": null,
      "object_position": null,
      "order": null,
      "overflow": null,
      "overflow_x": null,
      "overflow_y": null,
      "padding": null,
      "right": null,
      "top": null,
      "visibility": null,
      "width": null
     }
    },
    "343be38ba38a49f3b9e5d2766f37c00f": {
     "model_module": "@jupyter-widgets/controls",
     "model_module_version": "1.5.0",
     "model_name": "HTMLModel",
     "state": {
      "_dom_classes": [],
      "_model_module": "@jupyter-widgets/controls",
      "_model_module_version": "1.5.0",
      "_model_name": "HTMLModel",
      "_view_count": null,
      "_view_module": "@jupyter-widgets/controls",
      "_view_module_version": "1.5.0",
      "_view_name": "HTMLView",
      "description": "",
      "description_tooltip": null,
      "layout": "IPY_MODEL_41262aa2f2f746809b2ceeb96802de9e",
      "placeholder": "​",
      "style": "IPY_MODEL_0db62ff5d59b44a581c997a493a7ff63",
      "value": " 4/4 [02:06&lt;00:00, 31.36s/it]"
     }
    },
    "350c02c484d246579f4b5c4023593376": {
     "model_module": "@jupyter-widgets/controls",
     "model_module_version": "1.5.0",
     "model_name": "HBoxModel",
     "state": {
      "_dom_classes": [],
      "_model_module": "@jupyter-widgets/controls",
      "_model_module_version": "1.5.0",
      "_model_name": "HBoxModel",
      "_view_count": null,
      "_view_module": "@jupyter-widgets/controls",
      "_view_module_version": "1.5.0",
      "_view_name": "HBoxView",
      "box_style": "",
      "children": [
       "IPY_MODEL_31560df10bbd4e29b88168beab47916c",
       "IPY_MODEL_c73e484622b146719540a6799e6cd0ae",
       "IPY_MODEL_c37c578b7c8b4325bb651fa49a8dbbe1"
      ],
      "layout": "IPY_MODEL_4a1ac347dd0d424e90b1d0b7f55cfb45"
     }
    },
    "35dd95771b154c878441099c24fe22c0": {
     "model_module": "@jupyter-widgets/base",
     "model_module_version": "1.2.0",
     "model_name": "LayoutModel",
     "state": {
      "_model_module": "@jupyter-widgets/base",
      "_model_module_version": "1.2.0",
      "_model_name": "LayoutModel",
      "_view_count": null,
      "_view_module": "@jupyter-widgets/base",
      "_view_module_version": "1.2.0",
      "_view_name": "LayoutView",
      "align_content": null,
      "align_items": null,
      "align_self": null,
      "border": null,
      "bottom": null,
      "display": null,
      "flex": null,
      "flex_flow": null,
      "grid_area": null,
      "grid_auto_columns": null,
      "grid_auto_flow": null,
      "grid_auto_rows": null,
      "grid_column": null,
      "grid_gap": null,
      "grid_row": null,
      "grid_template_areas": null,
      "grid_template_columns": null,
      "grid_template_rows": null,
      "height": null,
      "justify_content": null,
      "justify_items": null,
      "left": null,
      "margin": null,
      "max_height": null,
      "max_width": null,
      "min_height": null,
      "min_width": null,
      "object_fit": null,
      "object_position": null,
      "order": null,
      "overflow": null,
      "overflow_x": null,
      "overflow_y": null,
      "padding": null,
      "right": null,
      "top": null,
      "visibility": null,
      "width": null
     }
    },
    "3640252cadb4420390a87fea5f749ba5": {
     "model_module": "@jupyter-widgets/base",
     "model_module_version": "1.2.0",
     "model_name": "LayoutModel",
     "state": {
      "_model_module": "@jupyter-widgets/base",
      "_model_module_version": "1.2.0",
      "_model_name": "LayoutModel",
      "_view_count": null,
      "_view_module": "@jupyter-widgets/base",
      "_view_module_version": "1.2.0",
      "_view_name": "LayoutView",
      "align_content": null,
      "align_items": null,
      "align_self": null,
      "border": null,
      "bottom": null,
      "display": null,
      "flex": null,
      "flex_flow": null,
      "grid_area": null,
      "grid_auto_columns": null,
      "grid_auto_flow": null,
      "grid_auto_rows": null,
      "grid_column": null,
      "grid_gap": null,
      "grid_row": null,
      "grid_template_areas": null,
      "grid_template_columns": null,
      "grid_template_rows": null,
      "height": null,
      "justify_content": null,
      "justify_items": null,
      "left": null,
      "margin": null,
      "max_height": null,
      "max_width": null,
      "min_height": null,
      "min_width": null,
      "object_fit": null,
      "object_position": null,
      "order": null,
      "overflow": null,
      "overflow_x": null,
      "overflow_y": null,
      "padding": null,
      "right": null,
      "top": null,
      "visibility": null,
      "width": null
     }
    },
    "37188892e8cf4ff18ae8d235904a0941": {
     "model_module": "@jupyter-widgets/controls",
     "model_module_version": "1.5.0",
     "model_name": "HTMLModel",
     "state": {
      "_dom_classes": [],
      "_model_module": "@jupyter-widgets/controls",
      "_model_module_version": "1.5.0",
      "_model_name": "HTMLModel",
      "_view_count": null,
      "_view_module": "@jupyter-widgets/controls",
      "_view_module_version": "1.5.0",
      "_view_name": "HTMLView",
      "description": "",
      "description_tooltip": null,
      "layout": "IPY_MODEL_c81296e9d2e0483ca839d04526aab837",
      "placeholder": "​",
      "style": "IPY_MODEL_a931d1efea644285bd28083d0f247e67",
      "value": " 4/4 [02:30&lt;00:00, 37.31s/it]"
     }
    },
    "3a34a5dfe60b4b828b160b7e64806685": {
     "model_module": "@jupyter-widgets/base",
     "model_module_version": "1.2.0",
     "model_name": "LayoutModel",
     "state": {
      "_model_module": "@jupyter-widgets/base",
      "_model_module_version": "1.2.0",
      "_model_name": "LayoutModel",
      "_view_count": null,
      "_view_module": "@jupyter-widgets/base",
      "_view_module_version": "1.2.0",
      "_view_name": "LayoutView",
      "align_content": null,
      "align_items": null,
      "align_self": null,
      "border": null,
      "bottom": null,
      "display": null,
      "flex": null,
      "flex_flow": null,
      "grid_area": null,
      "grid_auto_columns": null,
      "grid_auto_flow": null,
      "grid_auto_rows": null,
      "grid_column": null,
      "grid_gap": null,
      "grid_row": null,
      "grid_template_areas": null,
      "grid_template_columns": null,
      "grid_template_rows": null,
      "height": null,
      "justify_content": null,
      "justify_items": null,
      "left": null,
      "margin": null,
      "max_height": null,
      "max_width": null,
      "min_height": null,
      "min_width": null,
      "object_fit": null,
      "object_position": null,
      "order": null,
      "overflow": null,
      "overflow_x": null,
      "overflow_y": null,
      "padding": null,
      "right": null,
      "top": null,
      "visibility": null,
      "width": null
     }
    },
    "3e0ca65baeb24e46a6d866de3e4723c2": {
     "model_module": "@jupyter-widgets/controls",
     "model_module_version": "1.5.0",
     "model_name": "FloatProgressModel",
     "state": {
      "_dom_classes": [],
      "_model_module": "@jupyter-widgets/controls",
      "_model_module_version": "1.5.0",
      "_model_name": "FloatProgressModel",
      "_view_count": null,
      "_view_module": "@jupyter-widgets/controls",
      "_view_module_version": "1.5.0",
      "_view_name": "ProgressView",
      "bar_style": "success",
      "description": "",
      "description_tooltip": null,
      "layout": "IPY_MODEL_f282386a647f454e9803628f3472972f",
      "max": 4,
      "min": 0,
      "orientation": "horizontal",
      "style": "IPY_MODEL_54044525e6dc43199d25086cbefd7bf3",
      "value": 4
     }
    },
    "40e34e9ade184bedb4b58cd127d4d301": {
     "model_module": "@jupyter-widgets/controls",
     "model_module_version": "1.5.0",
     "model_name": "FloatProgressModel",
     "state": {
      "_dom_classes": [],
      "_model_module": "@jupyter-widgets/controls",
      "_model_module_version": "1.5.0",
      "_model_name": "FloatProgressModel",
      "_view_count": null,
      "_view_module": "@jupyter-widgets/controls",
      "_view_module_version": "1.5.0",
      "_view_name": "ProgressView",
      "bar_style": "success",
      "description": "",
      "description_tooltip": null,
      "layout": "IPY_MODEL_d8ce8b88e04b44ed82c59237e5fe2250",
      "max": 4,
      "min": 0,
      "orientation": "horizontal",
      "style": "IPY_MODEL_765f1e274fc242de9c59ecf55c48f64b",
      "value": 4
     }
    },
    "41262aa2f2f746809b2ceeb96802de9e": {
     "model_module": "@jupyter-widgets/base",
     "model_module_version": "1.2.0",
     "model_name": "LayoutModel",
     "state": {
      "_model_module": "@jupyter-widgets/base",
      "_model_module_version": "1.2.0",
      "_model_name": "LayoutModel",
      "_view_count": null,
      "_view_module": "@jupyter-widgets/base",
      "_view_module_version": "1.2.0",
      "_view_name": "LayoutView",
      "align_content": null,
      "align_items": null,
      "align_self": null,
      "border": null,
      "bottom": null,
      "display": null,
      "flex": null,
      "flex_flow": null,
      "grid_area": null,
      "grid_auto_columns": null,
      "grid_auto_flow": null,
      "grid_auto_rows": null,
      "grid_column": null,
      "grid_gap": null,
      "grid_row": null,
      "grid_template_areas": null,
      "grid_template_columns": null,
      "grid_template_rows": null,
      "height": null,
      "justify_content": null,
      "justify_items": null,
      "left": null,
      "margin": null,
      "max_height": null,
      "max_width": null,
      "min_height": null,
      "min_width": null,
      "object_fit": null,
      "object_position": null,
      "order": null,
      "overflow": null,
      "overflow_x": null,
      "overflow_y": null,
      "padding": null,
      "right": null,
      "top": null,
      "visibility": null,
      "width": null
     }
    },
    "416e039d210a4bd18238c49722d350dc": {
     "model_module": "@jupyter-widgets/controls",
     "model_module_version": "1.5.0",
     "model_name": "ProgressStyleModel",
     "state": {
      "_model_module": "@jupyter-widgets/controls",
      "_model_module_version": "1.5.0",
      "_model_name": "ProgressStyleModel",
      "_view_count": null,
      "_view_module": "@jupyter-widgets/base",
      "_view_module_version": "1.2.0",
      "_view_name": "StyleView",
      "bar_color": null,
      "description_width": ""
     }
    },
    "43e0967c28654be6a0d8bc09be6817aa": {
     "model_module": "@jupyter-widgets/controls",
     "model_module_version": "1.5.0",
     "model_name": "HTMLModel",
     "state": {
      "_dom_classes": [],
      "_model_module": "@jupyter-widgets/controls",
      "_model_module_version": "1.5.0",
      "_model_name": "HTMLModel",
      "_view_count": null,
      "_view_module": "@jupyter-widgets/controls",
      "_view_module_version": "1.5.0",
      "_view_name": "HTMLView",
      "description": "",
      "description_tooltip": null,
      "layout": "IPY_MODEL_29b844187ad64537a132a48ae5e49b83",
      "placeholder": "​",
      "style": "IPY_MODEL_5e013be115c040f7bd78fa254d152dcc",
      "value": "100%"
     }
    },
    "4a1ac347dd0d424e90b1d0b7f55cfb45": {
     "model_module": "@jupyter-widgets/base",
     "model_module_version": "1.2.0",
     "model_name": "LayoutModel",
     "state": {
      "_model_module": "@jupyter-widgets/base",
      "_model_module_version": "1.2.0",
      "_model_name": "LayoutModel",
      "_view_count": null,
      "_view_module": "@jupyter-widgets/base",
      "_view_module_version": "1.2.0",
      "_view_name": "LayoutView",
      "align_content": null,
      "align_items": null,
      "align_self": null,
      "border": null,
      "bottom": null,
      "display": null,
      "flex": null,
      "flex_flow": null,
      "grid_area": null,
      "grid_auto_columns": null,
      "grid_auto_flow": null,
      "grid_auto_rows": null,
      "grid_column": null,
      "grid_gap": null,
      "grid_row": null,
      "grid_template_areas": null,
      "grid_template_columns": null,
      "grid_template_rows": null,
      "height": null,
      "justify_content": null,
      "justify_items": null,
      "left": null,
      "margin": null,
      "max_height": null,
      "max_width": null,
      "min_height": null,
      "min_width": null,
      "object_fit": null,
      "object_position": null,
      "order": null,
      "overflow": null,
      "overflow_x": null,
      "overflow_y": null,
      "padding": null,
      "right": null,
      "top": null,
      "visibility": null,
      "width": null
     }
    },
    "4d685be76bd74754b08a5ed47c3aa0a2": {
     "model_module": "@jupyter-widgets/base",
     "model_module_version": "1.2.0",
     "model_name": "LayoutModel",
     "state": {
      "_model_module": "@jupyter-widgets/base",
      "_model_module_version": "1.2.0",
      "_model_name": "LayoutModel",
      "_view_count": null,
      "_view_module": "@jupyter-widgets/base",
      "_view_module_version": "1.2.0",
      "_view_name": "LayoutView",
      "align_content": null,
      "align_items": null,
      "align_self": null,
      "border": null,
      "bottom": null,
      "display": null,
      "flex": null,
      "flex_flow": null,
      "grid_area": null,
      "grid_auto_columns": null,
      "grid_auto_flow": null,
      "grid_auto_rows": null,
      "grid_column": null,
      "grid_gap": null,
      "grid_row": null,
      "grid_template_areas": null,
      "grid_template_columns": null,
      "grid_template_rows": null,
      "height": null,
      "justify_content": null,
      "justify_items": null,
      "left": null,
      "margin": null,
      "max_height": null,
      "max_width": null,
      "min_height": null,
      "min_width": null,
      "object_fit": null,
      "object_position": null,
      "order": null,
      "overflow": null,
      "overflow_x": null,
      "overflow_y": null,
      "padding": null,
      "right": null,
      "top": null,
      "visibility": null,
      "width": null
     }
    },
    "4dc8fe979a3047ab9786c5773f078490": {
     "model_module": "@jupyter-widgets/controls",
     "model_module_version": "1.5.0",
     "model_name": "HBoxModel",
     "state": {
      "_dom_classes": [],
      "_model_module": "@jupyter-widgets/controls",
      "_model_module_version": "1.5.0",
      "_model_name": "HBoxModel",
      "_view_count": null,
      "_view_module": "@jupyter-widgets/controls",
      "_view_module_version": "1.5.0",
      "_view_name": "HBoxView",
      "box_style": "",
      "children": [
       "IPY_MODEL_85d693426dd545ab950a961bbb58f1b3",
       "IPY_MODEL_d03eb372094d4baba1ad7ec08ccab9f9",
       "IPY_MODEL_cd3d47e4cf0645549bfca875ef1be933"
      ],
      "layout": "IPY_MODEL_aadf551a3b864c09bd51937ac536dbe8"
     }
    },
    "4fdaa25dba434e279479e04beb0736e3": {
     "model_module": "@jupyter-widgets/base",
     "model_module_version": "1.2.0",
     "model_name": "LayoutModel",
     "state": {
      "_model_module": "@jupyter-widgets/base",
      "_model_module_version": "1.2.0",
      "_model_name": "LayoutModel",
      "_view_count": null,
      "_view_module": "@jupyter-widgets/base",
      "_view_module_version": "1.2.0",
      "_view_name": "LayoutView",
      "align_content": null,
      "align_items": null,
      "align_self": null,
      "border": null,
      "bottom": null,
      "display": null,
      "flex": null,
      "flex_flow": null,
      "grid_area": null,
      "grid_auto_columns": null,
      "grid_auto_flow": null,
      "grid_auto_rows": null,
      "grid_column": null,
      "grid_gap": null,
      "grid_row": null,
      "grid_template_areas": null,
      "grid_template_columns": null,
      "grid_template_rows": null,
      "height": null,
      "justify_content": null,
      "justify_items": null,
      "left": null,
      "margin": null,
      "max_height": null,
      "max_width": null,
      "min_height": null,
      "min_width": null,
      "object_fit": null,
      "object_position": null,
      "order": null,
      "overflow": null,
      "overflow_x": null,
      "overflow_y": null,
      "padding": null,
      "right": null,
      "top": null,
      "visibility": null,
      "width": null
     }
    },
    "54044525e6dc43199d25086cbefd7bf3": {
     "model_module": "@jupyter-widgets/controls",
     "model_module_version": "1.5.0",
     "model_name": "ProgressStyleModel",
     "state": {
      "_model_module": "@jupyter-widgets/controls",
      "_model_module_version": "1.5.0",
      "_model_name": "ProgressStyleModel",
      "_view_count": null,
      "_view_module": "@jupyter-widgets/base",
      "_view_module_version": "1.2.0",
      "_view_name": "StyleView",
      "bar_color": null,
      "description_width": ""
     }
    },
    "5e013be115c040f7bd78fa254d152dcc": {
     "model_module": "@jupyter-widgets/controls",
     "model_module_version": "1.5.0",
     "model_name": "DescriptionStyleModel",
     "state": {
      "_model_module": "@jupyter-widgets/controls",
      "_model_module_version": "1.5.0",
      "_model_name": "DescriptionStyleModel",
      "_view_count": null,
      "_view_module": "@jupyter-widgets/base",
      "_view_module_version": "1.2.0",
      "_view_name": "StyleView",
      "description_width": ""
     }
    },
    "5fd413c3f803427da99eceab5f84368c": {
     "model_module": "@jupyter-widgets/controls",
     "model_module_version": "1.5.0",
     "model_name": "DescriptionStyleModel",
     "state": {
      "_model_module": "@jupyter-widgets/controls",
      "_model_module_version": "1.5.0",
      "_model_name": "DescriptionStyleModel",
      "_view_count": null,
      "_view_module": "@jupyter-widgets/base",
      "_view_module_version": "1.2.0",
      "_view_name": "StyleView",
      "description_width": ""
     }
    },
    "6e436594f806472cbbf2b3540df48265": {
     "model_module": "@jupyter-widgets/controls",
     "model_module_version": "1.5.0",
     "model_name": "DescriptionStyleModel",
     "state": {
      "_model_module": "@jupyter-widgets/controls",
      "_model_module_version": "1.5.0",
      "_model_name": "DescriptionStyleModel",
      "_view_count": null,
      "_view_module": "@jupyter-widgets/base",
      "_view_module_version": "1.2.0",
      "_view_name": "StyleView",
      "description_width": ""
     }
    },
    "6e7e82b8e8ba4904af24c826e649d08e": {
     "model_module": "@jupyter-widgets/controls",
     "model_module_version": "1.5.0",
     "model_name": "HTMLModel",
     "state": {
      "_dom_classes": [],
      "_model_module": "@jupyter-widgets/controls",
      "_model_module_version": "1.5.0",
      "_model_name": "HTMLModel",
      "_view_count": null,
      "_view_module": "@jupyter-widgets/controls",
      "_view_module_version": "1.5.0",
      "_view_name": "HTMLView",
      "description": "",
      "description_tooltip": null,
      "layout": "IPY_MODEL_ac3027cd66644f22b7bc7b336c24938e",
      "placeholder": "​",
      "style": "IPY_MODEL_a9bd13dbbe204db89afa1485292083fc",
      "value": " 4/4 [02:15&lt;00:00, 33.60s/it]"
     }
    },
    "6ff949e377484d21a308be936e8a855b": {
     "model_module": "@jupyter-widgets/controls",
     "model_module_version": "1.5.0",
     "model_name": "HBoxModel",
     "state": {
      "_dom_classes": [],
      "_model_module": "@jupyter-widgets/controls",
      "_model_module_version": "1.5.0",
      "_model_name": "HBoxModel",
      "_view_count": null,
      "_view_module": "@jupyter-widgets/controls",
      "_view_module_version": "1.5.0",
      "_view_name": "HBoxView",
      "box_style": "",
      "children": [
       "IPY_MODEL_9ebc94d552d8473e9c3806ea5c91f6d8",
       "IPY_MODEL_3e0ca65baeb24e46a6d866de3e4723c2",
       "IPY_MODEL_cf6cbdccd6bd47eebf3dca7ed0f95efa"
      ],
      "layout": "IPY_MODEL_ec7e33ec0fc343a7aa6f201c60947788"
     }
    },
    "71efb6e4f7c848598f4321761ea44a22": {
     "model_module": "@jupyter-widgets/controls",
     "model_module_version": "1.5.0",
     "model_name": "ProgressStyleModel",
     "state": {
      "_model_module": "@jupyter-widgets/controls",
      "_model_module_version": "1.5.0",
      "_model_name": "ProgressStyleModel",
      "_view_count": null,
      "_view_module": "@jupyter-widgets/base",
      "_view_module_version": "1.2.0",
      "_view_name": "StyleView",
      "bar_color": null,
      "description_width": ""
     }
    },
    "73adc3b73c0e4debb7e9aaf2b2df51b6": {
     "model_module": "@jupyter-widgets/controls",
     "model_module_version": "1.5.0",
     "model_name": "HBoxModel",
     "state": {
      "_dom_classes": [],
      "_model_module": "@jupyter-widgets/controls",
      "_model_module_version": "1.5.0",
      "_model_name": "HBoxModel",
      "_view_count": null,
      "_view_module": "@jupyter-widgets/controls",
      "_view_module_version": "1.5.0",
      "_view_name": "HBoxView",
      "box_style": "",
      "children": [
       "IPY_MODEL_a6df4a03ae694deab055c97da1698265",
       "IPY_MODEL_40e34e9ade184bedb4b58cd127d4d301",
       "IPY_MODEL_37188892e8cf4ff18ae8d235904a0941"
      ],
      "layout": "IPY_MODEL_86588fd021494c2f843d1b1c5c511ba4"
     }
    },
    "74f14787b14f421faf01bb4361d562c0": {
     "model_module": "@jupyter-widgets/controls",
     "model_module_version": "1.5.0",
     "model_name": "HTMLModel",
     "state": {
      "_dom_classes": [],
      "_model_module": "@jupyter-widgets/controls",
      "_model_module_version": "1.5.0",
      "_model_name": "HTMLModel",
      "_view_count": null,
      "_view_module": "@jupyter-widgets/controls",
      "_view_module_version": "1.5.0",
      "_view_name": "HTMLView",
      "description": "",
      "description_tooltip": null,
      "layout": "IPY_MODEL_192ed4c9a5e547c898e0cf5acaa2f7ef",
      "placeholder": "​",
      "style": "IPY_MODEL_96258b259d7d4994bea25915c0f9328d",
      "value": " 4/4 [02:11&lt;00:00, 32.38s/it]"
     }
    },
    "765f1e274fc242de9c59ecf55c48f64b": {
     "model_module": "@jupyter-widgets/controls",
     "model_module_version": "1.5.0",
     "model_name": "ProgressStyleModel",
     "state": {
      "_model_module": "@jupyter-widgets/controls",
      "_model_module_version": "1.5.0",
      "_model_name": "ProgressStyleModel",
      "_view_count": null,
      "_view_module": "@jupyter-widgets/base",
      "_view_module_version": "1.2.0",
      "_view_name": "StyleView",
      "bar_color": null,
      "description_width": ""
     }
    },
    "811ac4ff7af745ce9a4a48aa6b5c18db": {
     "model_module": "@jupyter-widgets/base",
     "model_module_version": "1.2.0",
     "model_name": "LayoutModel",
     "state": {
      "_model_module": "@jupyter-widgets/base",
      "_model_module_version": "1.2.0",
      "_model_name": "LayoutModel",
      "_view_count": null,
      "_view_module": "@jupyter-widgets/base",
      "_view_module_version": "1.2.0",
      "_view_name": "LayoutView",
      "align_content": null,
      "align_items": null,
      "align_self": null,
      "border": null,
      "bottom": null,
      "display": null,
      "flex": null,
      "flex_flow": null,
      "grid_area": null,
      "grid_auto_columns": null,
      "grid_auto_flow": null,
      "grid_auto_rows": null,
      "grid_column": null,
      "grid_gap": null,
      "grid_row": null,
      "grid_template_areas": null,
      "grid_template_columns": null,
      "grid_template_rows": null,
      "height": null,
      "justify_content": null,
      "justify_items": null,
      "left": null,
      "margin": null,
      "max_height": null,
      "max_width": null,
      "min_height": null,
      "min_width": null,
      "object_fit": null,
      "object_position": null,
      "order": null,
      "overflow": null,
      "overflow_x": null,
      "overflow_y": null,
      "padding": null,
      "right": null,
      "top": null,
      "visibility": null,
      "width": null
     }
    },
    "85d693426dd545ab950a961bbb58f1b3": {
     "model_module": "@jupyter-widgets/controls",
     "model_module_version": "1.5.0",
     "model_name": "HTMLModel",
     "state": {
      "_dom_classes": [],
      "_model_module": "@jupyter-widgets/controls",
      "_model_module_version": "1.5.0",
      "_model_name": "HTMLModel",
      "_view_count": null,
      "_view_module": "@jupyter-widgets/controls",
      "_view_module_version": "1.5.0",
      "_view_name": "HTMLView",
      "description": "",
      "description_tooltip": null,
      "layout": "IPY_MODEL_21454c8df15b4d2fb89f31df987e14f9",
      "placeholder": "​",
      "style": "IPY_MODEL_6e436594f806472cbbf2b3540df48265",
      "value": "100%"
     }
    },
    "86588fd021494c2f843d1b1c5c511ba4": {
     "model_module": "@jupyter-widgets/base",
     "model_module_version": "1.2.0",
     "model_name": "LayoutModel",
     "state": {
      "_model_module": "@jupyter-widgets/base",
      "_model_module_version": "1.2.0",
      "_model_name": "LayoutModel",
      "_view_count": null,
      "_view_module": "@jupyter-widgets/base",
      "_view_module_version": "1.2.0",
      "_view_name": "LayoutView",
      "align_content": null,
      "align_items": null,
      "align_self": null,
      "border": null,
      "bottom": null,
      "display": null,
      "flex": null,
      "flex_flow": null,
      "grid_area": null,
      "grid_auto_columns": null,
      "grid_auto_flow": null,
      "grid_auto_rows": null,
      "grid_column": null,
      "grid_gap": null,
      "grid_row": null,
      "grid_template_areas": null,
      "grid_template_columns": null,
      "grid_template_rows": null,
      "height": null,
      "justify_content": null,
      "justify_items": null,
      "left": null,
      "margin": null,
      "max_height": null,
      "max_width": null,
      "min_height": null,
      "min_width": null,
      "object_fit": null,
      "object_position": null,
      "order": null,
      "overflow": null,
      "overflow_x": null,
      "overflow_y": null,
      "padding": null,
      "right": null,
      "top": null,
      "visibility": null,
      "width": null
     }
    },
    "8a89be92b6924a6f988e460486d52892": {
     "model_module": "@jupyter-widgets/controls",
     "model_module_version": "1.5.0",
     "model_name": "HBoxModel",
     "state": {
      "_dom_classes": [],
      "_model_module": "@jupyter-widgets/controls",
      "_model_module_version": "1.5.0",
      "_model_name": "HBoxModel",
      "_view_count": null,
      "_view_module": "@jupyter-widgets/controls",
      "_view_module_version": "1.5.0",
      "_view_name": "HBoxView",
      "box_style": "",
      "children": [
       "IPY_MODEL_9660ef60a1fa48caa1ad9c0768779f45",
       "IPY_MODEL_a98e721fe74b4a54b519bcb5cdcf86ae",
       "IPY_MODEL_e005afdb38fa4b6c8d888dc15f7800c4"
      ],
      "layout": "IPY_MODEL_4d685be76bd74754b08a5ed47c3aa0a2"
     }
    },
    "927a8745363846eeba92ee6eaa96b9e9": {
     "model_module": "@jupyter-widgets/controls",
     "model_module_version": "1.5.0",
     "model_name": "DescriptionStyleModel",
     "state": {
      "_model_module": "@jupyter-widgets/controls",
      "_model_module_version": "1.5.0",
      "_model_name": "DescriptionStyleModel",
      "_view_count": null,
      "_view_module": "@jupyter-widgets/base",
      "_view_module_version": "1.2.0",
      "_view_name": "StyleView",
      "description_width": ""
     }
    },
    "96258b259d7d4994bea25915c0f9328d": {
     "model_module": "@jupyter-widgets/controls",
     "model_module_version": "1.5.0",
     "model_name": "DescriptionStyleModel",
     "state": {
      "_model_module": "@jupyter-widgets/controls",
      "_model_module_version": "1.5.0",
      "_model_name": "DescriptionStyleModel",
      "_view_count": null,
      "_view_module": "@jupyter-widgets/base",
      "_view_module_version": "1.2.0",
      "_view_name": "StyleView",
      "description_width": ""
     }
    },
    "9660ef60a1fa48caa1ad9c0768779f45": {
     "model_module": "@jupyter-widgets/controls",
     "model_module_version": "1.5.0",
     "model_name": "HTMLModel",
     "state": {
      "_dom_classes": [],
      "_model_module": "@jupyter-widgets/controls",
      "_model_module_version": "1.5.0",
      "_model_name": "HTMLModel",
      "_view_count": null,
      "_view_module": "@jupyter-widgets/controls",
      "_view_module_version": "1.5.0",
      "_view_name": "HTMLView",
      "description": "",
      "description_tooltip": null,
      "layout": "IPY_MODEL_c42aed6b9b4947ebaa6f46e19d06d5e8",
      "placeholder": "​",
      "style": "IPY_MODEL_efdddffd33bc47dfa27efa179da170a6",
      "value": "100%"
     }
    },
    "9ebc94d552d8473e9c3806ea5c91f6d8": {
     "model_module": "@jupyter-widgets/controls",
     "model_module_version": "1.5.0",
     "model_name": "HTMLModel",
     "state": {
      "_dom_classes": [],
      "_model_module": "@jupyter-widgets/controls",
      "_model_module_version": "1.5.0",
      "_model_name": "HTMLModel",
      "_view_count": null,
      "_view_module": "@jupyter-widgets/controls",
      "_view_module_version": "1.5.0",
      "_view_name": "HTMLView",
      "description": "",
      "description_tooltip": null,
      "layout": "IPY_MODEL_fd69170e946f480d80d83fc024ea0304",
      "placeholder": "​",
      "style": "IPY_MODEL_c6c77238e4cf4450b9fa6f0a4fee1645",
      "value": "100%"
     }
    },
    "a127e15a8cdf450788012cc5f14a4990": {
     "model_module": "@jupyter-widgets/controls",
     "model_module_version": "1.5.0",
     "model_name": "ProgressStyleModel",
     "state": {
      "_model_module": "@jupyter-widgets/controls",
      "_model_module_version": "1.5.0",
      "_model_name": "ProgressStyleModel",
      "_view_count": null,
      "_view_module": "@jupyter-widgets/base",
      "_view_module_version": "1.2.0",
      "_view_name": "StyleView",
      "bar_color": null,
      "description_width": ""
     }
    },
    "a5538cd7fcd9495b987a0345df57a023": {
     "model_module": "@jupyter-widgets/base",
     "model_module_version": "1.2.0",
     "model_name": "LayoutModel",
     "state": {
      "_model_module": "@jupyter-widgets/base",
      "_model_module_version": "1.2.0",
      "_model_name": "LayoutModel",
      "_view_count": null,
      "_view_module": "@jupyter-widgets/base",
      "_view_module_version": "1.2.0",
      "_view_name": "LayoutView",
      "align_content": null,
      "align_items": null,
      "align_self": null,
      "border": null,
      "bottom": null,
      "display": null,
      "flex": null,
      "flex_flow": null,
      "grid_area": null,
      "grid_auto_columns": null,
      "grid_auto_flow": null,
      "grid_auto_rows": null,
      "grid_column": null,
      "grid_gap": null,
      "grid_row": null,
      "grid_template_areas": null,
      "grid_template_columns": null,
      "grid_template_rows": null,
      "height": null,
      "justify_content": null,
      "justify_items": null,
      "left": null,
      "margin": null,
      "max_height": null,
      "max_width": null,
      "min_height": null,
      "min_width": null,
      "object_fit": null,
      "object_position": null,
      "order": null,
      "overflow": null,
      "overflow_x": null,
      "overflow_y": null,
      "padding": null,
      "right": null,
      "top": null,
      "visibility": null,
      "width": null
     }
    },
    "a6df4a03ae694deab055c97da1698265": {
     "model_module": "@jupyter-widgets/controls",
     "model_module_version": "1.5.0",
     "model_name": "HTMLModel",
     "state": {
      "_dom_classes": [],
      "_model_module": "@jupyter-widgets/controls",
      "_model_module_version": "1.5.0",
      "_model_name": "HTMLModel",
      "_view_count": null,
      "_view_module": "@jupyter-widgets/controls",
      "_view_module_version": "1.5.0",
      "_view_name": "HTMLView",
      "description": "",
      "description_tooltip": null,
      "layout": "IPY_MODEL_d70e8c21ef094e7789ada662bb81d8a2",
      "placeholder": "​",
      "style": "IPY_MODEL_aa5ae1378a604620b3956c6528539829",
      "value": "100%"
     }
    },
    "a6e11b49a0dd43c793f141cc9575c191": {
     "model_module": "@jupyter-widgets/base",
     "model_module_version": "1.2.0",
     "model_name": "LayoutModel",
     "state": {
      "_model_module": "@jupyter-widgets/base",
      "_model_module_version": "1.2.0",
      "_model_name": "LayoutModel",
      "_view_count": null,
      "_view_module": "@jupyter-widgets/base",
      "_view_module_version": "1.2.0",
      "_view_name": "LayoutView",
      "align_content": null,
      "align_items": null,
      "align_self": null,
      "border": null,
      "bottom": null,
      "display": null,
      "flex": null,
      "flex_flow": null,
      "grid_area": null,
      "grid_auto_columns": null,
      "grid_auto_flow": null,
      "grid_auto_rows": null,
      "grid_column": null,
      "grid_gap": null,
      "grid_row": null,
      "grid_template_areas": null,
      "grid_template_columns": null,
      "grid_template_rows": null,
      "height": null,
      "justify_content": null,
      "justify_items": null,
      "left": null,
      "margin": null,
      "max_height": null,
      "max_width": null,
      "min_height": null,
      "min_width": null,
      "object_fit": null,
      "object_position": null,
      "order": null,
      "overflow": null,
      "overflow_x": null,
      "overflow_y": null,
      "padding": null,
      "right": null,
      "top": null,
      "visibility": null,
      "width": null
     }
    },
    "a931d1efea644285bd28083d0f247e67": {
     "model_module": "@jupyter-widgets/controls",
     "model_module_version": "1.5.0",
     "model_name": "DescriptionStyleModel",
     "state": {
      "_model_module": "@jupyter-widgets/controls",
      "_model_module_version": "1.5.0",
      "_model_name": "DescriptionStyleModel",
      "_view_count": null,
      "_view_module": "@jupyter-widgets/base",
      "_view_module_version": "1.2.0",
      "_view_name": "StyleView",
      "description_width": ""
     }
    },
    "a98e721fe74b4a54b519bcb5cdcf86ae": {
     "model_module": "@jupyter-widgets/controls",
     "model_module_version": "1.5.0",
     "model_name": "FloatProgressModel",
     "state": {
      "_dom_classes": [],
      "_model_module": "@jupyter-widgets/controls",
      "_model_module_version": "1.5.0",
      "_model_name": "FloatProgressModel",
      "_view_count": null,
      "_view_module": "@jupyter-widgets/controls",
      "_view_module_version": "1.5.0",
      "_view_name": "ProgressView",
      "bar_style": "success",
      "description": "",
      "description_tooltip": null,
      "layout": "IPY_MODEL_c45560b78380448db72b7beee4008418",
      "max": 4,
      "min": 0,
      "orientation": "horizontal",
      "style": "IPY_MODEL_0e9cf401b5534a908bec2775d01424a0",
      "value": 4
     }
    },
    "a9bd13dbbe204db89afa1485292083fc": {
     "model_module": "@jupyter-widgets/controls",
     "model_module_version": "1.5.0",
     "model_name": "DescriptionStyleModel",
     "state": {
      "_model_module": "@jupyter-widgets/controls",
      "_model_module_version": "1.5.0",
      "_model_name": "DescriptionStyleModel",
      "_view_count": null,
      "_view_module": "@jupyter-widgets/base",
      "_view_module_version": "1.2.0",
      "_view_name": "StyleView",
      "description_width": ""
     }
    },
    "aa5ae1378a604620b3956c6528539829": {
     "model_module": "@jupyter-widgets/controls",
     "model_module_version": "1.5.0",
     "model_name": "DescriptionStyleModel",
     "state": {
      "_model_module": "@jupyter-widgets/controls",
      "_model_module_version": "1.5.0",
      "_model_name": "DescriptionStyleModel",
      "_view_count": null,
      "_view_module": "@jupyter-widgets/base",
      "_view_module_version": "1.2.0",
      "_view_name": "StyleView",
      "description_width": ""
     }
    },
    "aadf551a3b864c09bd51937ac536dbe8": {
     "model_module": "@jupyter-widgets/base",
     "model_module_version": "1.2.0",
     "model_name": "LayoutModel",
     "state": {
      "_model_module": "@jupyter-widgets/base",
      "_model_module_version": "1.2.0",
      "_model_name": "LayoutModel",
      "_view_count": null,
      "_view_module": "@jupyter-widgets/base",
      "_view_module_version": "1.2.0",
      "_view_name": "LayoutView",
      "align_content": null,
      "align_items": null,
      "align_self": null,
      "border": null,
      "bottom": null,
      "display": null,
      "flex": null,
      "flex_flow": null,
      "grid_area": null,
      "grid_auto_columns": null,
      "grid_auto_flow": null,
      "grid_auto_rows": null,
      "grid_column": null,
      "grid_gap": null,
      "grid_row": null,
      "grid_template_areas": null,
      "grid_template_columns": null,
      "grid_template_rows": null,
      "height": null,
      "justify_content": null,
      "justify_items": null,
      "left": null,
      "margin": null,
      "max_height": null,
      "max_width": null,
      "min_height": null,
      "min_width": null,
      "object_fit": null,
      "object_position": null,
      "order": null,
      "overflow": null,
      "overflow_x": null,
      "overflow_y": null,
      "padding": null,
      "right": null,
      "top": null,
      "visibility": null,
      "width": null
     }
    },
    "ab09c54734524902940ffff49a64b3f8": {
     "model_module": "@jupyter-widgets/controls",
     "model_module_version": "1.5.0",
     "model_name": "HBoxModel",
     "state": {
      "_dom_classes": [],
      "_model_module": "@jupyter-widgets/controls",
      "_model_module_version": "1.5.0",
      "_model_name": "HBoxModel",
      "_view_count": null,
      "_view_module": "@jupyter-widgets/controls",
      "_view_module_version": "1.5.0",
      "_view_name": "HBoxView",
      "box_style": "",
      "children": [
       "IPY_MODEL_08e65cb065bf49b4b1ab1e37bcf2bf6b",
       "IPY_MODEL_de3ebdf9ba9a4aa99be3fc4f06f14402",
       "IPY_MODEL_74f14787b14f421faf01bb4361d562c0"
      ],
      "layout": "IPY_MODEL_35dd95771b154c878441099c24fe22c0"
     }
    },
    "ac3027cd66644f22b7bc7b336c24938e": {
     "model_module": "@jupyter-widgets/base",
     "model_module_version": "1.2.0",
     "model_name": "LayoutModel",
     "state": {
      "_model_module": "@jupyter-widgets/base",
      "_model_module_version": "1.2.0",
      "_model_name": "LayoutModel",
      "_view_count": null,
      "_view_module": "@jupyter-widgets/base",
      "_view_module_version": "1.2.0",
      "_view_name": "LayoutView",
      "align_content": null,
      "align_items": null,
      "align_self": null,
      "border": null,
      "bottom": null,
      "display": null,
      "flex": null,
      "flex_flow": null,
      "grid_area": null,
      "grid_auto_columns": null,
      "grid_auto_flow": null,
      "grid_auto_rows": null,
      "grid_column": null,
      "grid_gap": null,
      "grid_row": null,
      "grid_template_areas": null,
      "grid_template_columns": null,
      "grid_template_rows": null,
      "height": null,
      "justify_content": null,
      "justify_items": null,
      "left": null,
      "margin": null,
      "max_height": null,
      "max_width": null,
      "min_height": null,
      "min_width": null,
      "object_fit": null,
      "object_position": null,
      "order": null,
      "overflow": null,
      "overflow_x": null,
      "overflow_y": null,
      "padding": null,
      "right": null,
      "top": null,
      "visibility": null,
      "width": null
     }
    },
    "b0a75ae53c9c4cfb804d2312f889fd4a": {
     "model_module": "@jupyter-widgets/controls",
     "model_module_version": "1.5.0",
     "model_name": "HBoxModel",
     "state": {
      "_dom_classes": [],
      "_model_module": "@jupyter-widgets/controls",
      "_model_module_version": "1.5.0",
      "_model_name": "HBoxModel",
      "_view_count": null,
      "_view_module": "@jupyter-widgets/controls",
      "_view_module_version": "1.5.0",
      "_view_name": "HBoxView",
      "box_style": "",
      "children": [
       "IPY_MODEL_1d7fa11e6c9e4cc39345a47dd1499131",
       "IPY_MODEL_b2322ccb64094b6c879de4efa9eb2297",
       "IPY_MODEL_6e7e82b8e8ba4904af24c826e649d08e"
      ],
      "layout": "IPY_MODEL_0e393a6a56dd4fd5a8d51f852377d8fa"
     }
    },
    "b2322ccb64094b6c879de4efa9eb2297": {
     "model_module": "@jupyter-widgets/controls",
     "model_module_version": "1.5.0",
     "model_name": "FloatProgressModel",
     "state": {
      "_dom_classes": [],
      "_model_module": "@jupyter-widgets/controls",
      "_model_module_version": "1.5.0",
      "_model_name": "FloatProgressModel",
      "_view_count": null,
      "_view_module": "@jupyter-widgets/controls",
      "_view_module_version": "1.5.0",
      "_view_name": "ProgressView",
      "bar_style": "success",
      "description": "",
      "description_tooltip": null,
      "layout": "IPY_MODEL_811ac4ff7af745ce9a4a48aa6b5c18db",
      "max": 4,
      "min": 0,
      "orientation": "horizontal",
      "style": "IPY_MODEL_da12c64974d046efb357dd5d10c42aae",
      "value": 4
     }
    },
    "b664ac6ef06143d5a2db1fbf83ae4712": {
     "model_module": "@jupyter-widgets/base",
     "model_module_version": "1.2.0",
     "model_name": "LayoutModel",
     "state": {
      "_model_module": "@jupyter-widgets/base",
      "_model_module_version": "1.2.0",
      "_model_name": "LayoutModel",
      "_view_count": null,
      "_view_module": "@jupyter-widgets/base",
      "_view_module_version": "1.2.0",
      "_view_name": "LayoutView",
      "align_content": null,
      "align_items": null,
      "align_self": null,
      "border": null,
      "bottom": null,
      "display": null,
      "flex": null,
      "flex_flow": null,
      "grid_area": null,
      "grid_auto_columns": null,
      "grid_auto_flow": null,
      "grid_auto_rows": null,
      "grid_column": null,
      "grid_gap": null,
      "grid_row": null,
      "grid_template_areas": null,
      "grid_template_columns": null,
      "grid_template_rows": null,
      "height": null,
      "justify_content": null,
      "justify_items": null,
      "left": null,
      "margin": null,
      "max_height": null,
      "max_width": null,
      "min_height": null,
      "min_width": null,
      "object_fit": null,
      "object_position": null,
      "order": null,
      "overflow": null,
      "overflow_x": null,
      "overflow_y": null,
      "padding": null,
      "right": null,
      "top": null,
      "visibility": null,
      "width": null
     }
    },
    "bb62d89bd3464cb382046321cb3cb069": {
     "model_module": "@jupyter-widgets/base",
     "model_module_version": "1.2.0",
     "model_name": "LayoutModel",
     "state": {
      "_model_module": "@jupyter-widgets/base",
      "_model_module_version": "1.2.0",
      "_model_name": "LayoutModel",
      "_view_count": null,
      "_view_module": "@jupyter-widgets/base",
      "_view_module_version": "1.2.0",
      "_view_name": "LayoutView",
      "align_content": null,
      "align_items": null,
      "align_self": null,
      "border": null,
      "bottom": null,
      "display": null,
      "flex": null,
      "flex_flow": null,
      "grid_area": null,
      "grid_auto_columns": null,
      "grid_auto_flow": null,
      "grid_auto_rows": null,
      "grid_column": null,
      "grid_gap": null,
      "grid_row": null,
      "grid_template_areas": null,
      "grid_template_columns": null,
      "grid_template_rows": null,
      "height": null,
      "justify_content": null,
      "justify_items": null,
      "left": null,
      "margin": null,
      "max_height": null,
      "max_width": null,
      "min_height": null,
      "min_width": null,
      "object_fit": null,
      "object_position": null,
      "order": null,
      "overflow": null,
      "overflow_x": null,
      "overflow_y": null,
      "padding": null,
      "right": null,
      "top": null,
      "visibility": null,
      "width": null
     }
    },
    "c37c578b7c8b4325bb651fa49a8dbbe1": {
     "model_module": "@jupyter-widgets/controls",
     "model_module_version": "1.5.0",
     "model_name": "HTMLModel",
     "state": {
      "_dom_classes": [],
      "_model_module": "@jupyter-widgets/controls",
      "_model_module_version": "1.5.0",
      "_model_name": "HTMLModel",
      "_view_count": null,
      "_view_module": "@jupyter-widgets/controls",
      "_view_module_version": "1.5.0",
      "_view_name": "HTMLView",
      "description": "",
      "description_tooltip": null,
      "layout": "IPY_MODEL_33669f3932a04d53a52d77645998fce4",
      "placeholder": "​",
      "style": "IPY_MODEL_f1a75c77fc7a466f9ea7b22e085cdfe0",
      "value": " 4/4 [02:14&lt;00:00, 33.32s/it]"
     }
    },
    "c42aed6b9b4947ebaa6f46e19d06d5e8": {
     "model_module": "@jupyter-widgets/base",
     "model_module_version": "1.2.0",
     "model_name": "LayoutModel",
     "state": {
      "_model_module": "@jupyter-widgets/base",
      "_model_module_version": "1.2.0",
      "_model_name": "LayoutModel",
      "_view_count": null,
      "_view_module": "@jupyter-widgets/base",
      "_view_module_version": "1.2.0",
      "_view_name": "LayoutView",
      "align_content": null,
      "align_items": null,
      "align_self": null,
      "border": null,
      "bottom": null,
      "display": null,
      "flex": null,
      "flex_flow": null,
      "grid_area": null,
      "grid_auto_columns": null,
      "grid_auto_flow": null,
      "grid_auto_rows": null,
      "grid_column": null,
      "grid_gap": null,
      "grid_row": null,
      "grid_template_areas": null,
      "grid_template_columns": null,
      "grid_template_rows": null,
      "height": null,
      "justify_content": null,
      "justify_items": null,
      "left": null,
      "margin": null,
      "max_height": null,
      "max_width": null,
      "min_height": null,
      "min_width": null,
      "object_fit": null,
      "object_position": null,
      "order": null,
      "overflow": null,
      "overflow_x": null,
      "overflow_y": null,
      "padding": null,
      "right": null,
      "top": null,
      "visibility": null,
      "width": null
     }
    },
    "c45560b78380448db72b7beee4008418": {
     "model_module": "@jupyter-widgets/base",
     "model_module_version": "1.2.0",
     "model_name": "LayoutModel",
     "state": {
      "_model_module": "@jupyter-widgets/base",
      "_model_module_version": "1.2.0",
      "_model_name": "LayoutModel",
      "_view_count": null,
      "_view_module": "@jupyter-widgets/base",
      "_view_module_version": "1.2.0",
      "_view_name": "LayoutView",
      "align_content": null,
      "align_items": null,
      "align_self": null,
      "border": null,
      "bottom": null,
      "display": null,
      "flex": null,
      "flex_flow": null,
      "grid_area": null,
      "grid_auto_columns": null,
      "grid_auto_flow": null,
      "grid_auto_rows": null,
      "grid_column": null,
      "grid_gap": null,
      "grid_row": null,
      "grid_template_areas": null,
      "grid_template_columns": null,
      "grid_template_rows": null,
      "height": null,
      "justify_content": null,
      "justify_items": null,
      "left": null,
      "margin": null,
      "max_height": null,
      "max_width": null,
      "min_height": null,
      "min_width": null,
      "object_fit": null,
      "object_position": null,
      "order": null,
      "overflow": null,
      "overflow_x": null,
      "overflow_y": null,
      "padding": null,
      "right": null,
      "top": null,
      "visibility": null,
      "width": null
     }
    },
    "c6c77238e4cf4450b9fa6f0a4fee1645": {
     "model_module": "@jupyter-widgets/controls",
     "model_module_version": "1.5.0",
     "model_name": "DescriptionStyleModel",
     "state": {
      "_model_module": "@jupyter-widgets/controls",
      "_model_module_version": "1.5.0",
      "_model_name": "DescriptionStyleModel",
      "_view_count": null,
      "_view_module": "@jupyter-widgets/base",
      "_view_module_version": "1.2.0",
      "_view_name": "StyleView",
      "description_width": ""
     }
    },
    "c73e484622b146719540a6799e6cd0ae": {
     "model_module": "@jupyter-widgets/controls",
     "model_module_version": "1.5.0",
     "model_name": "FloatProgressModel",
     "state": {
      "_dom_classes": [],
      "_model_module": "@jupyter-widgets/controls",
      "_model_module_version": "1.5.0",
      "_model_name": "FloatProgressModel",
      "_view_count": null,
      "_view_module": "@jupyter-widgets/controls",
      "_view_module_version": "1.5.0",
      "_view_name": "ProgressView",
      "bar_style": "success",
      "description": "",
      "description_tooltip": null,
      "layout": "IPY_MODEL_b664ac6ef06143d5a2db1fbf83ae4712",
      "max": 4,
      "min": 0,
      "orientation": "horizontal",
      "style": "IPY_MODEL_fe85dfc917aa4d24aff2596475f0ba7a",
      "value": 4
     }
    },
    "c81296e9d2e0483ca839d04526aab837": {
     "model_module": "@jupyter-widgets/base",
     "model_module_version": "1.2.0",
     "model_name": "LayoutModel",
     "state": {
      "_model_module": "@jupyter-widgets/base",
      "_model_module_version": "1.2.0",
      "_model_name": "LayoutModel",
      "_view_count": null,
      "_view_module": "@jupyter-widgets/base",
      "_view_module_version": "1.2.0",
      "_view_name": "LayoutView",
      "align_content": null,
      "align_items": null,
      "align_self": null,
      "border": null,
      "bottom": null,
      "display": null,
      "flex": null,
      "flex_flow": null,
      "grid_area": null,
      "grid_auto_columns": null,
      "grid_auto_flow": null,
      "grid_auto_rows": null,
      "grid_column": null,
      "grid_gap": null,
      "grid_row": null,
      "grid_template_areas": null,
      "grid_template_columns": null,
      "grid_template_rows": null,
      "height": null,
      "justify_content": null,
      "justify_items": null,
      "left": null,
      "margin": null,
      "max_height": null,
      "max_width": null,
      "min_height": null,
      "min_width": null,
      "object_fit": null,
      "object_position": null,
      "order": null,
      "overflow": null,
      "overflow_x": null,
      "overflow_y": null,
      "padding": null,
      "right": null,
      "top": null,
      "visibility": null,
      "width": null
     }
    },
    "c89491fd190e4d07b4936bc9685d615b": {
     "model_module": "@jupyter-widgets/controls",
     "model_module_version": "1.5.0",
     "model_name": "DescriptionStyleModel",
     "state": {
      "_model_module": "@jupyter-widgets/controls",
      "_model_module_version": "1.5.0",
      "_model_name": "DescriptionStyleModel",
      "_view_count": null,
      "_view_module": "@jupyter-widgets/base",
      "_view_module_version": "1.2.0",
      "_view_name": "StyleView",
      "description_width": ""
     }
    },
    "cd3d47e4cf0645549bfca875ef1be933": {
     "model_module": "@jupyter-widgets/controls",
     "model_module_version": "1.5.0",
     "model_name": "HTMLModel",
     "state": {
      "_dom_classes": [],
      "_model_module": "@jupyter-widgets/controls",
      "_model_module_version": "1.5.0",
      "_model_name": "HTMLModel",
      "_view_count": null,
      "_view_module": "@jupyter-widgets/controls",
      "_view_module_version": "1.5.0",
      "_view_name": "HTMLView",
      "description": "",
      "description_tooltip": null,
      "layout": "IPY_MODEL_a6e11b49a0dd43c793f141cc9575c191",
      "placeholder": "​",
      "style": "IPY_MODEL_c89491fd190e4d07b4936bc9685d615b",
      "value": " 4/4 [02:10&lt;00:00, 32.50s/it]"
     }
    },
    "ce99bdc1417f43ee82b3b912962224c9": {
     "model_module": "@jupyter-widgets/base",
     "model_module_version": "1.2.0",
     "model_name": "LayoutModel",
     "state": {
      "_model_module": "@jupyter-widgets/base",
      "_model_module_version": "1.2.0",
      "_model_name": "LayoutModel",
      "_view_count": null,
      "_view_module": "@jupyter-widgets/base",
      "_view_module_version": "1.2.0",
      "_view_name": "LayoutView",
      "align_content": null,
      "align_items": null,
      "align_self": null,
      "border": null,
      "bottom": null,
      "display": null,
      "flex": null,
      "flex_flow": null,
      "grid_area": null,
      "grid_auto_columns": null,
      "grid_auto_flow": null,
      "grid_auto_rows": null,
      "grid_column": null,
      "grid_gap": null,
      "grid_row": null,
      "grid_template_areas": null,
      "grid_template_columns": null,
      "grid_template_rows": null,
      "height": null,
      "justify_content": null,
      "justify_items": null,
      "left": null,
      "margin": null,
      "max_height": null,
      "max_width": null,
      "min_height": null,
      "min_width": null,
      "object_fit": null,
      "object_position": null,
      "order": null,
      "overflow": null,
      "overflow_x": null,
      "overflow_y": null,
      "padding": null,
      "right": null,
      "top": null,
      "visibility": null,
      "width": null
     }
    },
    "cf6cbdccd6bd47eebf3dca7ed0f95efa": {
     "model_module": "@jupyter-widgets/controls",
     "model_module_version": "1.5.0",
     "model_name": "HTMLModel",
     "state": {
      "_dom_classes": [],
      "_model_module": "@jupyter-widgets/controls",
      "_model_module_version": "1.5.0",
      "_model_name": "HTMLModel",
      "_view_count": null,
      "_view_module": "@jupyter-widgets/controls",
      "_view_module_version": "1.5.0",
      "_view_name": "HTMLView",
      "description": "",
      "description_tooltip": null,
      "layout": "IPY_MODEL_ce99bdc1417f43ee82b3b912962224c9",
      "placeholder": "​",
      "style": "IPY_MODEL_5fd413c3f803427da99eceab5f84368c",
      "value": " 4/4 [02:27&lt;00:00, 37.39s/it]"
     }
    },
    "d03eb372094d4baba1ad7ec08ccab9f9": {
     "model_module": "@jupyter-widgets/controls",
     "model_module_version": "1.5.0",
     "model_name": "FloatProgressModel",
     "state": {
      "_dom_classes": [],
      "_model_module": "@jupyter-widgets/controls",
      "_model_module_version": "1.5.0",
      "_model_name": "FloatProgressModel",
      "_view_count": null,
      "_view_module": "@jupyter-widgets/controls",
      "_view_module_version": "1.5.0",
      "_view_name": "ProgressView",
      "bar_style": "success",
      "description": "",
      "description_tooltip": null,
      "layout": "IPY_MODEL_0146a30f3d1b4ec2b79220e255f2779d",
      "max": 4,
      "min": 0,
      "orientation": "horizontal",
      "style": "IPY_MODEL_416e039d210a4bd18238c49722d350dc",
      "value": 4
     }
    },
    "d70e8c21ef094e7789ada662bb81d8a2": {
     "model_module": "@jupyter-widgets/base",
     "model_module_version": "1.2.0",
     "model_name": "LayoutModel",
     "state": {
      "_model_module": "@jupyter-widgets/base",
      "_model_module_version": "1.2.0",
      "_model_name": "LayoutModel",
      "_view_count": null,
      "_view_module": "@jupyter-widgets/base",
      "_view_module_version": "1.2.0",
      "_view_name": "LayoutView",
      "align_content": null,
      "align_items": null,
      "align_self": null,
      "border": null,
      "bottom": null,
      "display": null,
      "flex": null,
      "flex_flow": null,
      "grid_area": null,
      "grid_auto_columns": null,
      "grid_auto_flow": null,
      "grid_auto_rows": null,
      "grid_column": null,
      "grid_gap": null,
      "grid_row": null,
      "grid_template_areas": null,
      "grid_template_columns": null,
      "grid_template_rows": null,
      "height": null,
      "justify_content": null,
      "justify_items": null,
      "left": null,
      "margin": null,
      "max_height": null,
      "max_width": null,
      "min_height": null,
      "min_width": null,
      "object_fit": null,
      "object_position": null,
      "order": null,
      "overflow": null,
      "overflow_x": null,
      "overflow_y": null,
      "padding": null,
      "right": null,
      "top": null,
      "visibility": null,
      "width": null
     }
    },
    "d8ce8b88e04b44ed82c59237e5fe2250": {
     "model_module": "@jupyter-widgets/base",
     "model_module_version": "1.2.0",
     "model_name": "LayoutModel",
     "state": {
      "_model_module": "@jupyter-widgets/base",
      "_model_module_version": "1.2.0",
      "_model_name": "LayoutModel",
      "_view_count": null,
      "_view_module": "@jupyter-widgets/base",
      "_view_module_version": "1.2.0",
      "_view_name": "LayoutView",
      "align_content": null,
      "align_items": null,
      "align_self": null,
      "border": null,
      "bottom": null,
      "display": null,
      "flex": null,
      "flex_flow": null,
      "grid_area": null,
      "grid_auto_columns": null,
      "grid_auto_flow": null,
      "grid_auto_rows": null,
      "grid_column": null,
      "grid_gap": null,
      "grid_row": null,
      "grid_template_areas": null,
      "grid_template_columns": null,
      "grid_template_rows": null,
      "height": null,
      "justify_content": null,
      "justify_items": null,
      "left": null,
      "margin": null,
      "max_height": null,
      "max_width": null,
      "min_height": null,
      "min_width": null,
      "object_fit": null,
      "object_position": null,
      "order": null,
      "overflow": null,
      "overflow_x": null,
      "overflow_y": null,
      "padding": null,
      "right": null,
      "top": null,
      "visibility": null,
      "width": null
     }
    },
    "da12c64974d046efb357dd5d10c42aae": {
     "model_module": "@jupyter-widgets/controls",
     "model_module_version": "1.5.0",
     "model_name": "ProgressStyleModel",
     "state": {
      "_model_module": "@jupyter-widgets/controls",
      "_model_module_version": "1.5.0",
      "_model_name": "ProgressStyleModel",
      "_view_count": null,
      "_view_module": "@jupyter-widgets/base",
      "_view_module_version": "1.2.0",
      "_view_name": "StyleView",
      "bar_color": null,
      "description_width": ""
     }
    },
    "da2e3107f21e439fa64ac4b5515d04f5": {
     "model_module": "@jupyter-widgets/controls",
     "model_module_version": "1.5.0",
     "model_name": "FloatProgressModel",
     "state": {
      "_dom_classes": [],
      "_model_module": "@jupyter-widgets/controls",
      "_model_module_version": "1.5.0",
      "_model_name": "FloatProgressModel",
      "_view_count": null,
      "_view_module": "@jupyter-widgets/controls",
      "_view_module_version": "1.5.0",
      "_view_name": "ProgressView",
      "bar_style": "success",
      "description": "",
      "description_tooltip": null,
      "layout": "IPY_MODEL_bb62d89bd3464cb382046321cb3cb069",
      "max": 4,
      "min": 0,
      "orientation": "horizontal",
      "style": "IPY_MODEL_71efb6e4f7c848598f4321761ea44a22",
      "value": 4
     }
    },
    "de3ebdf9ba9a4aa99be3fc4f06f14402": {
     "model_module": "@jupyter-widgets/controls",
     "model_module_version": "1.5.0",
     "model_name": "FloatProgressModel",
     "state": {
      "_dom_classes": [],
      "_model_module": "@jupyter-widgets/controls",
      "_model_module_version": "1.5.0",
      "_model_name": "FloatProgressModel",
      "_view_count": null,
      "_view_module": "@jupyter-widgets/controls",
      "_view_module_version": "1.5.0",
      "_view_name": "ProgressView",
      "bar_style": "success",
      "description": "",
      "description_tooltip": null,
      "layout": "IPY_MODEL_4fdaa25dba434e279479e04beb0736e3",
      "max": 4,
      "min": 0,
      "orientation": "horizontal",
      "style": "IPY_MODEL_a127e15a8cdf450788012cc5f14a4990",
      "value": 4
     }
    },
    "e005afdb38fa4b6c8d888dc15f7800c4": {
     "model_module": "@jupyter-widgets/controls",
     "model_module_version": "1.5.0",
     "model_name": "HTMLModel",
     "state": {
      "_dom_classes": [],
      "_model_module": "@jupyter-widgets/controls",
      "_model_module_version": "1.5.0",
      "_model_name": "HTMLModel",
      "_view_count": null,
      "_view_module": "@jupyter-widgets/controls",
      "_view_module_version": "1.5.0",
      "_view_name": "HTMLView",
      "description": "",
      "description_tooltip": null,
      "layout": "IPY_MODEL_a5538cd7fcd9495b987a0345df57a023",
      "placeholder": "​",
      "style": "IPY_MODEL_f71ba88284be4808b84cc2fd57bacbad",
      "value": " 4/4 [02:03&lt;00:00, 30.86s/it]"
     }
    },
    "e4344d92950d49c19421d5ce7a564952": {
     "model_module": "@jupyter-widgets/controls",
     "model_module_version": "1.5.0",
     "model_name": "DescriptionStyleModel",
     "state": {
      "_model_module": "@jupyter-widgets/controls",
      "_model_module_version": "1.5.0",
      "_model_name": "DescriptionStyleModel",
      "_view_count": null,
      "_view_module": "@jupyter-widgets/base",
      "_view_module_version": "1.2.0",
      "_view_name": "StyleView",
      "description_width": ""
     }
    },
    "ec7e33ec0fc343a7aa6f201c60947788": {
     "model_module": "@jupyter-widgets/base",
     "model_module_version": "1.2.0",
     "model_name": "LayoutModel",
     "state": {
      "_model_module": "@jupyter-widgets/base",
      "_model_module_version": "1.2.0",
      "_model_name": "LayoutModel",
      "_view_count": null,
      "_view_module": "@jupyter-widgets/base",
      "_view_module_version": "1.2.0",
      "_view_name": "LayoutView",
      "align_content": null,
      "align_items": null,
      "align_self": null,
      "border": null,
      "bottom": null,
      "display": null,
      "flex": null,
      "flex_flow": null,
      "grid_area": null,
      "grid_auto_columns": null,
      "grid_auto_flow": null,
      "grid_auto_rows": null,
      "grid_column": null,
      "grid_gap": null,
      "grid_row": null,
      "grid_template_areas": null,
      "grid_template_columns": null,
      "grid_template_rows": null,
      "height": null,
      "justify_content": null,
      "justify_items": null,
      "left": null,
      "margin": null,
      "max_height": null,
      "max_width": null,
      "min_height": null,
      "min_width": null,
      "object_fit": null,
      "object_position": null,
      "order": null,
      "overflow": null,
      "overflow_x": null,
      "overflow_y": null,
      "padding": null,
      "right": null,
      "top": null,
      "visibility": null,
      "width": null
     }
    },
    "efdddffd33bc47dfa27efa179da170a6": {
     "model_module": "@jupyter-widgets/controls",
     "model_module_version": "1.5.0",
     "model_name": "DescriptionStyleModel",
     "state": {
      "_model_module": "@jupyter-widgets/controls",
      "_model_module_version": "1.5.0",
      "_model_name": "DescriptionStyleModel",
      "_view_count": null,
      "_view_module": "@jupyter-widgets/base",
      "_view_module_version": "1.2.0",
      "_view_name": "StyleView",
      "description_width": ""
     }
    },
    "f006f6bd304d4adc95892bab9c6eecb5": {
     "model_module": "@jupyter-widgets/controls",
     "model_module_version": "1.5.0",
     "model_name": "HBoxModel",
     "state": {
      "_dom_classes": [],
      "_model_module": "@jupyter-widgets/controls",
      "_model_module_version": "1.5.0",
      "_model_name": "HBoxModel",
      "_view_count": null,
      "_view_module": "@jupyter-widgets/controls",
      "_view_module_version": "1.5.0",
      "_view_name": "HBoxView",
      "box_style": "",
      "children": [
       "IPY_MODEL_43e0967c28654be6a0d8bc09be6817aa",
       "IPY_MODEL_da2e3107f21e439fa64ac4b5515d04f5",
       "IPY_MODEL_343be38ba38a49f3b9e5d2766f37c00f"
      ],
      "layout": "IPY_MODEL_f7afbf7842d94330b43001a8acb4b3c9"
     }
    },
    "f1a75c77fc7a466f9ea7b22e085cdfe0": {
     "model_module": "@jupyter-widgets/controls",
     "model_module_version": "1.5.0",
     "model_name": "DescriptionStyleModel",
     "state": {
      "_model_module": "@jupyter-widgets/controls",
      "_model_module_version": "1.5.0",
      "_model_name": "DescriptionStyleModel",
      "_view_count": null,
      "_view_module": "@jupyter-widgets/base",
      "_view_module_version": "1.2.0",
      "_view_name": "StyleView",
      "description_width": ""
     }
    },
    "f282386a647f454e9803628f3472972f": {
     "model_module": "@jupyter-widgets/base",
     "model_module_version": "1.2.0",
     "model_name": "LayoutModel",
     "state": {
      "_model_module": "@jupyter-widgets/base",
      "_model_module_version": "1.2.0",
      "_model_name": "LayoutModel",
      "_view_count": null,
      "_view_module": "@jupyter-widgets/base",
      "_view_module_version": "1.2.0",
      "_view_name": "LayoutView",
      "align_content": null,
      "align_items": null,
      "align_self": null,
      "border": null,
      "bottom": null,
      "display": null,
      "flex": null,
      "flex_flow": null,
      "grid_area": null,
      "grid_auto_columns": null,
      "grid_auto_flow": null,
      "grid_auto_rows": null,
      "grid_column": null,
      "grid_gap": null,
      "grid_row": null,
      "grid_template_areas": null,
      "grid_template_columns": null,
      "grid_template_rows": null,
      "height": null,
      "justify_content": null,
      "justify_items": null,
      "left": null,
      "margin": null,
      "max_height": null,
      "max_width": null,
      "min_height": null,
      "min_width": null,
      "object_fit": null,
      "object_position": null,
      "order": null,
      "overflow": null,
      "overflow_x": null,
      "overflow_y": null,
      "padding": null,
      "right": null,
      "top": null,
      "visibility": null,
      "width": null
     }
    },
    "f71ba88284be4808b84cc2fd57bacbad": {
     "model_module": "@jupyter-widgets/controls",
     "model_module_version": "1.5.0",
     "model_name": "DescriptionStyleModel",
     "state": {
      "_model_module": "@jupyter-widgets/controls",
      "_model_module_version": "1.5.0",
      "_model_name": "DescriptionStyleModel",
      "_view_count": null,
      "_view_module": "@jupyter-widgets/base",
      "_view_module_version": "1.2.0",
      "_view_name": "StyleView",
      "description_width": ""
     }
    },
    "f7afbf7842d94330b43001a8acb4b3c9": {
     "model_module": "@jupyter-widgets/base",
     "model_module_version": "1.2.0",
     "model_name": "LayoutModel",
     "state": {
      "_model_module": "@jupyter-widgets/base",
      "_model_module_version": "1.2.0",
      "_model_name": "LayoutModel",
      "_view_count": null,
      "_view_module": "@jupyter-widgets/base",
      "_view_module_version": "1.2.0",
      "_view_name": "LayoutView",
      "align_content": null,
      "align_items": null,
      "align_self": null,
      "border": null,
      "bottom": null,
      "display": null,
      "flex": null,
      "flex_flow": null,
      "grid_area": null,
      "grid_auto_columns": null,
      "grid_auto_flow": null,
      "grid_auto_rows": null,
      "grid_column": null,
      "grid_gap": null,
      "grid_row": null,
      "grid_template_areas": null,
      "grid_template_columns": null,
      "grid_template_rows": null,
      "height": null,
      "justify_content": null,
      "justify_items": null,
      "left": null,
      "margin": null,
      "max_height": null,
      "max_width": null,
      "min_height": null,
      "min_width": null,
      "object_fit": null,
      "object_position": null,
      "order": null,
      "overflow": null,
      "overflow_x": null,
      "overflow_y": null,
      "padding": null,
      "right": null,
      "top": null,
      "visibility": null,
      "width": null
     }
    },
    "fd69170e946f480d80d83fc024ea0304": {
     "model_module": "@jupyter-widgets/base",
     "model_module_version": "1.2.0",
     "model_name": "LayoutModel",
     "state": {
      "_model_module": "@jupyter-widgets/base",
      "_model_module_version": "1.2.0",
      "_model_name": "LayoutModel",
      "_view_count": null,
      "_view_module": "@jupyter-widgets/base",
      "_view_module_version": "1.2.0",
      "_view_name": "LayoutView",
      "align_content": null,
      "align_items": null,
      "align_self": null,
      "border": null,
      "bottom": null,
      "display": null,
      "flex": null,
      "flex_flow": null,
      "grid_area": null,
      "grid_auto_columns": null,
      "grid_auto_flow": null,
      "grid_auto_rows": null,
      "grid_column": null,
      "grid_gap": null,
      "grid_row": null,
      "grid_template_areas": null,
      "grid_template_columns": null,
      "grid_template_rows": null,
      "height": null,
      "justify_content": null,
      "justify_items": null,
      "left": null,
      "margin": null,
      "max_height": null,
      "max_width": null,
      "min_height": null,
      "min_width": null,
      "object_fit": null,
      "object_position": null,
      "order": null,
      "overflow": null,
      "overflow_x": null,
      "overflow_y": null,
      "padding": null,
      "right": null,
      "top": null,
      "visibility": null,
      "width": null
     }
    },
    "fe85dfc917aa4d24aff2596475f0ba7a": {
     "model_module": "@jupyter-widgets/controls",
     "model_module_version": "1.5.0",
     "model_name": "ProgressStyleModel",
     "state": {
      "_model_module": "@jupyter-widgets/controls",
      "_model_module_version": "1.5.0",
      "_model_name": "ProgressStyleModel",
      "_view_count": null,
      "_view_module": "@jupyter-widgets/base",
      "_view_module_version": "1.2.0",
      "_view_name": "StyleView",
      "bar_color": null,
      "description_width": ""
     }
    }
   }
  }
 },
 "nbformat": 4,
 "nbformat_minor": 1
}
